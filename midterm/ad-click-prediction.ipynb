{
 "cells": [
  {
   "cell_type": "markdown",
   "id": "bd1b83f8-3dd4-49ac-899b-5d2cfc153300",
   "metadata": {},
   "source": [
    "# Ad click prediction\n",
    "Dataset link: https://www.kaggle.com/datasets/arashnic/ctr-in-advertisement/data?select=Ad_click_prediction_train+%281%29.csv\n",
    "\n",
    "Given the data of ad clicks, I need to predict whether a user is going to click the ad or not."
   ]
  },
  {
   "cell_type": "code",
   "execution_count": 1,
   "id": "1ee8bda2-71a8-482c-954d-3e0ce6d30743",
   "metadata": {},
   "outputs": [],
   "source": [
    "import numpy as np\n",
    "import pandas as pd\n",
    "import seaborn as sns\n",
    "from matplotlib import pyplot as plt\n",
    "from sklearn.feature_extraction import DictVectorizer\n",
    "from sklearn.preprocessing import StandardScaler\n",
    "\n",
    "from sklearn.linear_model import SGDClassifier\n",
    "from sklearn.linear_model import LogisticRegression\n",
    "from sklearn.tree import DecisionTreeClassifier     \n",
    "from sklearn.ensemble import RandomForestClassifier \n",
    "from xgboost import XGBClassifier\n",
    "from sklearn.model_selection import GridSearchCV    \n",
    "\n",
    "import pickle\n",
    "from sklearn.model_selection import train_test_split\n",
    "from sklearn.model_selection import cross_val_score\n",
    "from sklearn.metrics import mutual_info_score, f1_score\n",
    "SEED = 42\n",
    "np.random.seed(SEED)"
   ]
  },
  {
   "cell_type": "code",
   "execution_count": 2,
   "id": "d86db7f1-379a-48af-ac29-dc02be93679c",
   "metadata": {},
   "outputs": [],
   "source": [
    "df = pd.read_csv(\"Ad_click_prediction_train (1).csv\")"
   ]
  },
  {
   "cell_type": "code",
   "execution_count": 3,
   "id": "f902d02b-cbc6-4f70-b8b0-dfe0c243be31",
   "metadata": {},
   "outputs": [
    {
     "data": {
      "text/html": [
       "<div>\n",
       "<style scoped>\n",
       "    .dataframe tbody tr th:only-of-type {\n",
       "        vertical-align: middle;\n",
       "    }\n",
       "\n",
       "    .dataframe tbody tr th {\n",
       "        vertical-align: top;\n",
       "    }\n",
       "\n",
       "    .dataframe thead th {\n",
       "        text-align: right;\n",
       "    }\n",
       "</style>\n",
       "<table border=\"1\" class=\"dataframe\">\n",
       "  <thead>\n",
       "    <tr style=\"text-align: right;\">\n",
       "      <th></th>\n",
       "      <th>session_id</th>\n",
       "      <th>DateTime</th>\n",
       "      <th>user_id</th>\n",
       "      <th>product</th>\n",
       "      <th>campaign_id</th>\n",
       "      <th>webpage_id</th>\n",
       "      <th>product_category_1</th>\n",
       "      <th>product_category_2</th>\n",
       "      <th>user_group_id</th>\n",
       "      <th>gender</th>\n",
       "      <th>age_level</th>\n",
       "      <th>user_depth</th>\n",
       "      <th>city_development_index</th>\n",
       "      <th>var_1</th>\n",
       "      <th>is_click</th>\n",
       "    </tr>\n",
       "  </thead>\n",
       "  <tbody>\n",
       "    <tr>\n",
       "      <th>0</th>\n",
       "      <td>140690</td>\n",
       "      <td>2017-07-02 00:00</td>\n",
       "      <td>858557</td>\n",
       "      <td>C</td>\n",
       "      <td>359520</td>\n",
       "      <td>13787</td>\n",
       "      <td>4</td>\n",
       "      <td>NaN</td>\n",
       "      <td>10.0</td>\n",
       "      <td>Female</td>\n",
       "      <td>4.0</td>\n",
       "      <td>3.0</td>\n",
       "      <td>3.0</td>\n",
       "      <td>0</td>\n",
       "      <td>0</td>\n",
       "    </tr>\n",
       "    <tr>\n",
       "      <th>1</th>\n",
       "      <td>333291</td>\n",
       "      <td>2017-07-02 00:00</td>\n",
       "      <td>243253</td>\n",
       "      <td>C</td>\n",
       "      <td>105960</td>\n",
       "      <td>11085</td>\n",
       "      <td>5</td>\n",
       "      <td>NaN</td>\n",
       "      <td>8.0</td>\n",
       "      <td>Female</td>\n",
       "      <td>2.0</td>\n",
       "      <td>2.0</td>\n",
       "      <td>NaN</td>\n",
       "      <td>0</td>\n",
       "      <td>0</td>\n",
       "    </tr>\n",
       "    <tr>\n",
       "      <th>2</th>\n",
       "      <td>129781</td>\n",
       "      <td>2017-07-02 00:00</td>\n",
       "      <td>243253</td>\n",
       "      <td>C</td>\n",
       "      <td>359520</td>\n",
       "      <td>13787</td>\n",
       "      <td>4</td>\n",
       "      <td>NaN</td>\n",
       "      <td>8.0</td>\n",
       "      <td>Female</td>\n",
       "      <td>2.0</td>\n",
       "      <td>2.0</td>\n",
       "      <td>NaN</td>\n",
       "      <td>0</td>\n",
       "      <td>0</td>\n",
       "    </tr>\n",
       "    <tr>\n",
       "      <th>3</th>\n",
       "      <td>464848</td>\n",
       "      <td>2017-07-02 00:00</td>\n",
       "      <td>1097446</td>\n",
       "      <td>I</td>\n",
       "      <td>359520</td>\n",
       "      <td>13787</td>\n",
       "      <td>3</td>\n",
       "      <td>NaN</td>\n",
       "      <td>3.0</td>\n",
       "      <td>Male</td>\n",
       "      <td>3.0</td>\n",
       "      <td>3.0</td>\n",
       "      <td>2.0</td>\n",
       "      <td>1</td>\n",
       "      <td>0</td>\n",
       "    </tr>\n",
       "    <tr>\n",
       "      <th>4</th>\n",
       "      <td>90569</td>\n",
       "      <td>2017-07-02 00:01</td>\n",
       "      <td>663656</td>\n",
       "      <td>C</td>\n",
       "      <td>405490</td>\n",
       "      <td>60305</td>\n",
       "      <td>3</td>\n",
       "      <td>NaN</td>\n",
       "      <td>2.0</td>\n",
       "      <td>Male</td>\n",
       "      <td>2.0</td>\n",
       "      <td>3.0</td>\n",
       "      <td>2.0</td>\n",
       "      <td>1</td>\n",
       "      <td>0</td>\n",
       "    </tr>\n",
       "  </tbody>\n",
       "</table>\n",
       "</div>"
      ],
      "text/plain": [
       "   session_id          DateTime  user_id product  campaign_id  webpage_id  \\\n",
       "0      140690  2017-07-02 00:00   858557       C       359520       13787   \n",
       "1      333291  2017-07-02 00:00   243253       C       105960       11085   \n",
       "2      129781  2017-07-02 00:00   243253       C       359520       13787   \n",
       "3      464848  2017-07-02 00:00  1097446       I       359520       13787   \n",
       "4       90569  2017-07-02 00:01   663656       C       405490       60305   \n",
       "\n",
       "   product_category_1  product_category_2  user_group_id  gender  age_level  \\\n",
       "0                   4                 NaN           10.0  Female        4.0   \n",
       "1                   5                 NaN            8.0  Female        2.0   \n",
       "2                   4                 NaN            8.0  Female        2.0   \n",
       "3                   3                 NaN            3.0    Male        3.0   \n",
       "4                   3                 NaN            2.0    Male        2.0   \n",
       "\n",
       "   user_depth  city_development_index  var_1  is_click  \n",
       "0         3.0                     3.0      0         0  \n",
       "1         2.0                     NaN      0         0  \n",
       "2         2.0                     NaN      0         0  \n",
       "3         3.0                     2.0      1         0  \n",
       "4         3.0                     2.0      1         0  "
      ]
     },
     "execution_count": 3,
     "metadata": {},
     "output_type": "execute_result"
    }
   ],
   "source": [
    "df.head()"
   ]
  },
  {
   "cell_type": "code",
   "execution_count": 4,
   "id": "0431ae1a-daef-4409-ba5b-489299d21c86",
   "metadata": {},
   "outputs": [
    {
     "data": {
      "text/plain": [
       "(463291, 15)"
      ]
     },
     "execution_count": 4,
     "metadata": {},
     "output_type": "execute_result"
    }
   ],
   "source": [
    "df.shape"
   ]
  },
  {
   "cell_type": "code",
   "execution_count": 5,
   "id": "04a86a95-be28-4729-9b73-96f4b5d144e8",
   "metadata": {},
   "outputs": [
    {
     "data": {
      "text/plain": [
       "Index(['session_id', 'datetime', 'user_id', 'product', 'campaign_id',\n",
       "       'webpage_id', 'product_category_1', 'product_category_2',\n",
       "       'user_group_id', 'gender', 'age_level', 'user_depth',\n",
       "       'city_development_index', 'var_1', 'is_click'],\n",
       "      dtype='object')"
      ]
     },
     "execution_count": 5,
     "metadata": {},
     "output_type": "execute_result"
    }
   ],
   "source": [
    "df.columns = df.columns.str.lower()\n",
    "df.columns"
   ]
  },
  {
   "cell_type": "code",
   "execution_count": 6,
   "id": "1586ce92-a2b2-4b00-8607-a123074216a4",
   "metadata": {},
   "outputs": [
    {
     "data": {
      "text/html": [
       "<div>\n",
       "<style scoped>\n",
       "    .dataframe tbody tr th:only-of-type {\n",
       "        vertical-align: middle;\n",
       "    }\n",
       "\n",
       "    .dataframe tbody tr th {\n",
       "        vertical-align: top;\n",
       "    }\n",
       "\n",
       "    .dataframe thead th {\n",
       "        text-align: right;\n",
       "    }\n",
       "</style>\n",
       "<table border=\"1\" class=\"dataframe\">\n",
       "  <thead>\n",
       "    <tr style=\"text-align: right;\">\n",
       "      <th></th>\n",
       "      <th>session_id</th>\n",
       "      <th>user_id</th>\n",
       "      <th>campaign_id</th>\n",
       "      <th>webpage_id</th>\n",
       "      <th>product_category_1</th>\n",
       "      <th>product_category_2</th>\n",
       "      <th>user_group_id</th>\n",
       "      <th>age_level</th>\n",
       "      <th>user_depth</th>\n",
       "      <th>city_development_index</th>\n",
       "      <th>var_1</th>\n",
       "      <th>is_click</th>\n",
       "    </tr>\n",
       "  </thead>\n",
       "  <tbody>\n",
       "    <tr>\n",
       "      <th>count</th>\n",
       "      <td>463,291.00</td>\n",
       "      <td>463,291.00</td>\n",
       "      <td>463,291.00</td>\n",
       "      <td>463,291.00</td>\n",
       "      <td>463,291.00</td>\n",
       "      <td>97,437.00</td>\n",
       "      <td>445,048.00</td>\n",
       "      <td>445,048.00</td>\n",
       "      <td>445,048.00</td>\n",
       "      <td>338,162.00</td>\n",
       "      <td>463,291.00</td>\n",
       "      <td>463,291.00</td>\n",
       "    </tr>\n",
       "    <tr>\n",
       "      <th>mean</th>\n",
       "      <td>285,544.09</td>\n",
       "      <td>546,049.65</td>\n",
       "      <td>308,474.54</td>\n",
       "      <td>29,685.88</td>\n",
       "      <td>3.07</td>\n",
       "      <td>162,753.35</td>\n",
       "      <td>3.48</td>\n",
       "      <td>2.78</td>\n",
       "      <td>2.88</td>\n",
       "      <td>2.56</td>\n",
       "      <td>0.42</td>\n",
       "      <td>0.07</td>\n",
       "    </tr>\n",
       "    <tr>\n",
       "      <th>std</th>\n",
       "      <td>168,577.35</td>\n",
       "      <td>329,462.53</td>\n",
       "      <td>126,517.10</td>\n",
       "      <td>21,542.05</td>\n",
       "      <td>1.30</td>\n",
       "      <td>78,743.74</td>\n",
       "      <td>2.41</td>\n",
       "      <td>1.07</td>\n",
       "      <td>0.40</td>\n",
       "      <td>0.92</td>\n",
       "      <td>0.49</td>\n",
       "      <td>0.25</td>\n",
       "    </tr>\n",
       "    <tr>\n",
       "      <th>min</th>\n",
       "      <td>2.00</td>\n",
       "      <td>4.00</td>\n",
       "      <td>82,320.00</td>\n",
       "      <td>1,734.00</td>\n",
       "      <td>1.00</td>\n",
       "      <td>18,595.00</td>\n",
       "      <td>0.00</td>\n",
       "      <td>0.00</td>\n",
       "      <td>1.00</td>\n",
       "      <td>1.00</td>\n",
       "      <td>0.00</td>\n",
       "      <td>0.00</td>\n",
       "    </tr>\n",
       "    <tr>\n",
       "      <th>25%</th>\n",
       "      <td>137,856.50</td>\n",
       "      <td>257,855.00</td>\n",
       "      <td>118,601.00</td>\n",
       "      <td>13,787.00</td>\n",
       "      <td>2.00</td>\n",
       "      <td>82,527.00</td>\n",
       "      <td>2.00</td>\n",
       "      <td>2.00</td>\n",
       "      <td>3.00</td>\n",
       "      <td>2.00</td>\n",
       "      <td>0.00</td>\n",
       "      <td>0.00</td>\n",
       "    </tr>\n",
       "    <tr>\n",
       "      <th>50%</th>\n",
       "      <td>285,429.00</td>\n",
       "      <td>531,801.00</td>\n",
       "      <td>359,520.00</td>\n",
       "      <td>13,787.00</td>\n",
       "      <td>3.00</td>\n",
       "      <td>146,115.00</td>\n",
       "      <td>3.00</td>\n",
       "      <td>3.00</td>\n",
       "      <td>3.00</td>\n",
       "      <td>2.00</td>\n",
       "      <td>0.00</td>\n",
       "      <td>0.00</td>\n",
       "    </tr>\n",
       "    <tr>\n",
       "      <th>75%</th>\n",
       "      <td>435,535.50</td>\n",
       "      <td>827,849.00</td>\n",
       "      <td>405,490.00</td>\n",
       "      <td>53,587.00</td>\n",
       "      <td>4.00</td>\n",
       "      <td>254,132.00</td>\n",
       "      <td>4.00</td>\n",
       "      <td>3.00</td>\n",
       "      <td>3.00</td>\n",
       "      <td>3.00</td>\n",
       "      <td>1.00</td>\n",
       "      <td>0.00</td>\n",
       "    </tr>\n",
       "    <tr>\n",
       "      <th>max</th>\n",
       "      <td>595,812.00</td>\n",
       "      <td>1,141,729.00</td>\n",
       "      <td>414,149.00</td>\n",
       "      <td>60,305.00</td>\n",
       "      <td>5.00</td>\n",
       "      <td>450,184.00</td>\n",
       "      <td>12.00</td>\n",
       "      <td>6.00</td>\n",
       "      <td>3.00</td>\n",
       "      <td>4.00</td>\n",
       "      <td>1.00</td>\n",
       "      <td>1.00</td>\n",
       "    </tr>\n",
       "  </tbody>\n",
       "</table>\n",
       "</div>"
      ],
      "text/plain": [
       "       session_id       user_id campaign_id  webpage_id product_category_1  \\\n",
       "count  463,291.00    463,291.00  463,291.00  463,291.00         463,291.00   \n",
       "mean   285,544.09    546,049.65  308,474.54   29,685.88               3.07   \n",
       "std    168,577.35    329,462.53  126,517.10   21,542.05               1.30   \n",
       "min          2.00          4.00   82,320.00    1,734.00               1.00   \n",
       "25%    137,856.50    257,855.00  118,601.00   13,787.00               2.00   \n",
       "50%    285,429.00    531,801.00  359,520.00   13,787.00               3.00   \n",
       "75%    435,535.50    827,849.00  405,490.00   53,587.00               4.00   \n",
       "max    595,812.00  1,141,729.00  414,149.00   60,305.00               5.00   \n",
       "\n",
       "      product_category_2 user_group_id   age_level  user_depth  \\\n",
       "count          97,437.00    445,048.00  445,048.00  445,048.00   \n",
       "mean          162,753.35          3.48        2.78        2.88   \n",
       "std            78,743.74          2.41        1.07        0.40   \n",
       "min            18,595.00          0.00        0.00        1.00   \n",
       "25%            82,527.00          2.00        2.00        3.00   \n",
       "50%           146,115.00          3.00        3.00        3.00   \n",
       "75%           254,132.00          4.00        3.00        3.00   \n",
       "max           450,184.00         12.00        6.00        3.00   \n",
       "\n",
       "      city_development_index       var_1    is_click  \n",
       "count             338,162.00  463,291.00  463,291.00  \n",
       "mean                    2.56        0.42        0.07  \n",
       "std                     0.92        0.49        0.25  \n",
       "min                     1.00        0.00        0.00  \n",
       "25%                     2.00        0.00        0.00  \n",
       "50%                     2.00        0.00        0.00  \n",
       "75%                     3.00        1.00        0.00  \n",
       "max                     4.00        1.00        1.00  "
      ]
     },
     "execution_count": 6,
     "metadata": {},
     "output_type": "execute_result"
    }
   ],
   "source": [
    "df.describe().map(lambda x: '{:,.2f}'.format(x))"
   ]
  },
  {
   "cell_type": "code",
   "execution_count": 7,
   "id": "50ed444f-0941-4058-b603-22d81ef81757",
   "metadata": {},
   "outputs": [
    {
     "name": "stdout",
     "output_type": "stream",
     "text": [
      "<class 'pandas.core.frame.DataFrame'>\n",
      "RangeIndex: 463291 entries, 0 to 463290\n",
      "Data columns (total 15 columns):\n",
      " #   Column                  Non-Null Count   Dtype  \n",
      "---  ------                  --------------   -----  \n",
      " 0   session_id              463291 non-null  int64  \n",
      " 1   datetime                463291 non-null  object \n",
      " 2   user_id                 463291 non-null  int64  \n",
      " 3   product                 463291 non-null  object \n",
      " 4   campaign_id             463291 non-null  int64  \n",
      " 5   webpage_id              463291 non-null  int64  \n",
      " 6   product_category_1      463291 non-null  int64  \n",
      " 7   product_category_2      97437 non-null   float64\n",
      " 8   user_group_id           445048 non-null  float64\n",
      " 9   gender                  445048 non-null  object \n",
      " 10  age_level               445048 non-null  float64\n",
      " 11  user_depth              445048 non-null  float64\n",
      " 12  city_development_index  338162 non-null  float64\n",
      " 13  var_1                   463291 non-null  int64  \n",
      " 14  is_click                463291 non-null  int64  \n",
      "dtypes: float64(5), int64(7), object(3)\n",
      "memory usage: 53.0+ MB\n"
     ]
    }
   ],
   "source": [
    "df.info()"
   ]
  },
  {
   "cell_type": "code",
   "execution_count": 8,
   "id": "e3f8074b-b762-4206-bc2e-ad06f07c676e",
   "metadata": {},
   "outputs": [
    {
     "data": {
      "text/plain": [
       "product\n",
       "C    163501\n",
       "H    109574\n",
       "I     63711\n",
       "D     41064\n",
       "B     22479\n",
       "E     21452\n",
       "A     15391\n",
       "J      9698\n",
       "G      9414\n",
       "F      7007\n",
       "Name: count, dtype: int64"
      ]
     },
     "execution_count": 8,
     "metadata": {},
     "output_type": "execute_result"
    }
   ],
   "source": [
    "df[\"product\"].value_counts()"
   ]
  },
  {
   "cell_type": "code",
   "execution_count": 9,
   "id": "aab81358-debb-42ec-880c-bf53ffc8b182",
   "metadata": {},
   "outputs": [
    {
     "data": {
      "text/plain": [
       "gender\n",
       "Male      393454\n",
       "Female     51594\n",
       "Name: count, dtype: int64"
      ]
     },
     "execution_count": 9,
     "metadata": {},
     "output_type": "execute_result"
    }
   ],
   "source": [
    "df[\"gender\"].value_counts()"
   ]
  },
  {
   "cell_type": "code",
   "execution_count": 10,
   "id": "f0947766-fdb0-49ad-a0fd-6d79d5dff96c",
   "metadata": {},
   "outputs": [
    {
     "data": {
      "text/plain": [
       "city_development_index\n",
       "2.0    147643\n",
       "3.0     88709\n",
       "4.0     67166\n",
       "1.0     34644\n",
       "Name: count, dtype: int64"
      ]
     },
     "execution_count": 10,
     "metadata": {},
     "output_type": "execute_result"
    }
   ],
   "source": [
    "df[\"city_development_index\"].value_counts()"
   ]
  },
  {
   "cell_type": "code",
   "execution_count": 11,
   "id": "12ad8588-9769-4079-85f3-ad0c4d379390",
   "metadata": {},
   "outputs": [
    {
     "data": {
      "text/plain": [
       "var_1\n",
       "0    267704\n",
       "1    195587\n",
       "Name: count, dtype: int64"
      ]
     },
     "execution_count": 11,
     "metadata": {},
     "output_type": "execute_result"
    }
   ],
   "source": [
    "df[\"var_1\"].value_counts()"
   ]
  },
  {
   "cell_type": "code",
   "execution_count": 12,
   "id": "dc1f7601-e299-4153-9d14-6fe2ce0e9572",
   "metadata": {},
   "outputs": [
    {
     "data": {
      "text/plain": [
       "user_depth\n",
       "3.0    402798\n",
       "2.0     30389\n",
       "1.0     11861\n",
       "Name: count, dtype: int64"
      ]
     },
     "execution_count": 12,
     "metadata": {},
     "output_type": "execute_result"
    }
   ],
   "source": [
    "df[\"user_depth\"].value_counts()"
   ]
  },
  {
   "cell_type": "code",
   "execution_count": 13,
   "id": "2358298b-2e6c-471f-b970-b77f19933c8c",
   "metadata": {},
   "outputs": [
    {
     "data": {
      "text/plain": [
       "age_level\n",
       "3.0    160581\n",
       "2.0    143501\n",
       "4.0     63859\n",
       "1.0     43367\n",
       "5.0     30828\n",
       "6.0      2759\n",
       "0.0       153\n",
       "Name: count, dtype: int64"
      ]
     },
     "execution_count": 13,
     "metadata": {},
     "output_type": "execute_result"
    }
   ],
   "source": [
    "df[\"age_level\"].value_counts()"
   ]
  },
  {
   "cell_type": "code",
   "execution_count": 14,
   "id": "10031fad-b143-4385-b17d-ece98f772afd",
   "metadata": {},
   "outputs": [
    {
     "data": {
      "text/plain": [
       "9"
      ]
     },
     "execution_count": 14,
     "metadata": {},
     "output_type": "execute_result"
    }
   ],
   "source": [
    "df[\"webpage_id\"].nunique()"
   ]
  },
  {
   "cell_type": "code",
   "execution_count": 15,
   "id": "9f4218f1-52f6-412f-a5e7-640391f7af00",
   "metadata": {},
   "outputs": [
    {
     "data": {
      "text/plain": [
       "10"
      ]
     },
     "execution_count": 15,
     "metadata": {},
     "output_type": "execute_result"
    }
   ],
   "source": [
    "df[\"campaign_id\"].nunique()"
   ]
  },
  {
   "cell_type": "code",
   "execution_count": 16,
   "id": "ba089c93-e15a-460a-bf9e-89164df2b273",
   "metadata": {},
   "outputs": [
    {
     "data": {
      "text/plain": [
       "150347"
      ]
     },
     "execution_count": 16,
     "metadata": {},
     "output_type": "execute_result"
    }
   ],
   "source": [
    "df[\"user_id\"].nunique()"
   ]
  },
  {
   "cell_type": "code",
   "execution_count": 17,
   "id": "d7b25014-5dc7-45f0-9998-d10f4d68c85c",
   "metadata": {},
   "outputs": [
    {
     "data": {
      "text/plain": [
       "user_group_id\n",
       "3.0     140317\n",
       "2.0     137278\n",
       "4.0      50080\n",
       "1.0      41946\n",
       "5.0      21989\n",
       "9.0      20264\n",
       "10.0     13779\n",
       "11.0      8839\n",
       "8.0       6223\n",
       "6.0       1724\n",
       "7.0       1421\n",
       "12.0      1035\n",
       "0.0        153\n",
       "Name: count, dtype: int64"
      ]
     },
     "execution_count": 17,
     "metadata": {},
     "output_type": "execute_result"
    }
   ],
   "source": [
    "df[\"user_group_id\"].value_counts()"
   ]
  },
  {
   "cell_type": "code",
   "execution_count": 18,
   "id": "a94c6cdb-3f91-452f-8d17-44a6557ebaf0",
   "metadata": {},
   "outputs": [
    {
     "data": {
      "text/plain": [
       "product_category_1\n",
       "4    133290\n",
       "3    113812\n",
       "1     81141\n",
       "2     69183\n",
       "5     65865\n",
       "Name: count, dtype: int64"
      ]
     },
     "execution_count": 18,
     "metadata": {},
     "output_type": "execute_result"
    }
   ],
   "source": [
    "df[\"product_category_1\"].value_counts()"
   ]
  },
  {
   "cell_type": "code",
   "execution_count": 19,
   "id": "90c1c02b-2f08-4c5f-bc43-fd58ee930a69",
   "metadata": {},
   "outputs": [
    {
     "data": {
      "text/plain": [
       "product_category_2\n",
       "82527.0     35531\n",
       "146115.0    25224\n",
       "270915.0    19624\n",
       "254132.0    12502\n",
       "143597.0     2701\n",
       "269093.0      858\n",
       "32026.0       578\n",
       "18595.0        76\n",
       "408790.0       67\n",
       "255689.0       62\n",
       "419804.0       43\n",
       "372532.0       41\n",
       "66101.0        34\n",
       "234846.0       25\n",
       "235358.0       19\n",
       "450184.0       14\n",
       "408831.0       12\n",
       "327439.0        8\n",
       "300711.0        4\n",
       "447834.0        3\n",
       "99226.0         2\n",
       "168114.0        2\n",
       "381435.0        1\n",
       "301147.0        1\n",
       "419304.0        1\n",
       "181650.0        1\n",
       "270147.0        1\n",
       "202351.0        1\n",
       "247789.0        1\n",
       "Name: count, dtype: int64"
      ]
     },
     "execution_count": 19,
     "metadata": {},
     "output_type": "execute_result"
    }
   ],
   "source": [
    "df[\"product_category_2\"].value_counts()"
   ]
  },
  {
   "cell_type": "code",
   "execution_count": 20,
   "id": "2bd3c37d-5941-46a7-a9b0-1439bc00beda",
   "metadata": {},
   "outputs": [
    {
     "data": {
      "image/png": "[encoded data removed]",
      "text/plain": [
       "<Figure size 1200x1200 with 12 Axes>"
      ]
     },
     "metadata": {},
     "output_type": "display_data"
    }
   ],
   "source": [
    "df.hist(bins=50, figsize=(12, 12))\n",
    "plt.show()"
   ]
  },
  {
   "cell_type": "code",
   "execution_count": 21,
   "id": "9a604d10-4529-40c7-986f-c04129a19df6",
   "metadata": {},
   "outputs": [
    {
     "data": {
      "text/plain": [
       "<Axes: xlabel='datetime'>"
      ]
     },
     "execution_count": 21,
     "metadata": {},
     "output_type": "execute_result"
    },
    {
     "data": {
      "image/png": "[encoded data removed]",
      "text/plain": [
       "<Figure size 640x480 with 1 Axes>"
      ]
     },
     "metadata": {},
     "output_type": "display_data"
    }
   ],
   "source": [
    "df.groupby(['datetime', 'gender'])['is_click'].mean().unstack().plot()"
   ]
  },
  {
   "cell_type": "code",
   "execution_count": 22,
   "id": "7863c61c-3831-4e7e-986b-871ce5f8ac99",
   "metadata": {},
   "outputs": [],
   "source": [
    "df[\"datetime\"] = pd.to_datetime(df[\"datetime\"])"
   ]
  },
  {
   "cell_type": "markdown",
   "id": "40364064-8783-43ad-b56a-18931b312256",
   "metadata": {},
   "source": [
    "### Handle missing values"
   ]
  },
  {
   "cell_type": "code",
   "execution_count": 23,
   "id": "a6c94b29-00bc-4745-8d9a-c77a65a47949",
   "metadata": {},
   "outputs": [
    {
     "data": {
      "text/plain": [
       "session_id                     0\n",
       "datetime                       0\n",
       "user_id                        0\n",
       "product                        0\n",
       "campaign_id                    0\n",
       "webpage_id                     0\n",
       "product_category_1             0\n",
       "product_category_2        365854\n",
       "user_group_id              18243\n",
       "gender                     18243\n",
       "age_level                  18243\n",
       "user_depth                 18243\n",
       "city_development_index    125129\n",
       "var_1                          0\n",
       "is_click                       0\n",
       "dtype: int64"
      ]
     },
     "execution_count": 23,
     "metadata": {},
     "output_type": "execute_result"
    }
   ],
   "source": [
    "df.isnull().sum()"
   ]
  },
  {
   "cell_type": "code",
   "execution_count": 24,
   "id": "0721d057-6db7-4784-946c-7f4f89857e71",
   "metadata": {},
   "outputs": [],
   "source": [
    "df.drop(columns=[\"product_category_2\"], inplace=True)\n",
    "\n",
    "# Drop rows with missing values in the specified columns\n",
    "columns_to_check = ['user_group_id', 'gender', 'age_level', 'user_depth']\n",
    "df = df.dropna(subset=columns_to_check)"
   ]
  },
  {
   "cell_type": "code",
   "execution_count": 25,
   "id": "8ddca2a4-d4ae-472e-a199-2bdc93b0bd64",
   "metadata": {},
   "outputs": [],
   "source": [
    "null_indices = df[df['city_development_index'].isnull()].index\n",
    "\n",
    "# Generate random values (1, 2, 3, 4) with equal probabilities\n",
    "random_values = np.random.choice([1, 2, 3, 4], size=len(null_indices), replace=True)\n",
    "\n",
    "# Assign random values to the null indices\n",
    "df.loc[null_indices, 'city_development_index'] = random_values"
   ]
  },
  {
   "cell_type": "code",
   "execution_count": 26,
   "id": "15f9a376-e77a-4f1d-b639-9027aa8077bc",
   "metadata": {},
   "outputs": [
    {
     "data": {
      "text/plain": [
       "session_id                0\n",
       "datetime                  0\n",
       "user_id                   0\n",
       "product                   0\n",
       "campaign_id               0\n",
       "webpage_id                0\n",
       "product_category_1        0\n",
       "user_group_id             0\n",
       "gender                    0\n",
       "age_level                 0\n",
       "user_depth                0\n",
       "city_development_index    0\n",
       "var_1                     0\n",
       "is_click                  0\n",
       "dtype: int64"
      ]
     },
     "execution_count": 26,
     "metadata": {},
     "output_type": "execute_result"
    }
   ],
   "source": [
    "df.isnull().sum()"
   ]
  },
  {
   "cell_type": "markdown",
   "id": "cef36adb-db0d-4774-b5b6-7cf07b113738",
   "metadata": {},
   "source": [
    "### Feature importance"
   ]
  },
  {
   "cell_type": "code",
   "execution_count": 27,
   "id": "161bfe3f-8f2b-49bd-8b06-ddccb62135be",
   "metadata": {},
   "outputs": [],
   "source": [
    "def mutual_info_ctr_score(series):\n",
    "    return mutual_info_score(series, df.is_click)"
   ]
  },
  {
   "cell_type": "code",
   "execution_count": 28,
   "id": "7ee533e8-85d7-41a5-9950-685f458bbb4d",
   "metadata": {},
   "outputs": [
    {
     "data": {
      "text/plain": [
       "session_id                0.247220\n",
       "user_id                   0.126145\n",
       "datetime                  0.010739\n",
       "campaign_id               0.001758\n",
       "webpage_id                0.001619\n",
       "product_category_1        0.000774\n",
       "product                   0.000356\n",
       "user_group_id             0.000234\n",
       "age_level                 0.000221\n",
       "var_1                     0.000071\n",
       "city_development_index    0.000030\n",
       "gender                    0.000010\n",
       "user_depth                0.000006\n",
       "dtype: float64"
      ]
     },
     "execution_count": 28,
     "metadata": {},
     "output_type": "execute_result"
    }
   ],
   "source": [
    "mi = df.iloc[:, :-1].apply(mutual_info_ctr_score)\n",
    "mi.sort_values(ascending=False)"
   ]
  },
  {
   "cell_type": "markdown",
   "id": "5be9d0aa-803c-424f-9aad-d778feb71a75",
   "metadata": {},
   "source": [
    "## Create a train/test split"
   ]
  },
  {
   "cell_type": "code",
   "execution_count": 29,
   "id": "1db5942c-d9b7-4ed5-8c23-2ea0cc77979c",
   "metadata": {},
   "outputs": [],
   "source": [
    "df_train, df_test = train_test_split(df, test_size=0.2, random_state=SEED, shuffle=True)"
   ]
  },
  {
   "cell_type": "code",
   "execution_count": 30,
   "id": "5c7a6845-889c-4811-bfb1-5e30f5247236",
   "metadata": {},
   "outputs": [
    {
     "data": {
      "text/plain": [
       "(356038, 89010)"
      ]
     },
     "execution_count": 30,
     "metadata": {},
     "output_type": "execute_result"
    }
   ],
   "source": [
    "len(df_train), len(df_test)"
   ]
  },
  {
   "cell_type": "code",
   "execution_count": null,
   "id": "a07fbb14-8581-4a40-a0c2-b7c5ffe4fed3",
   "metadata": {},
   "outputs": [],
   "source": []
  },
  {
   "cell_type": "code",
   "execution_count": 31,
   "id": "33fa897c-16cd-4491-a59c-f7fe779758fe",
   "metadata": {},
   "outputs": [],
   "source": [
    "y_train = df_train.is_click.values\n",
    "y_test = df_test.is_click.values\n",
    "\n",
    "del df_train[\"is_click\"]\n",
    "del df_test[\"is_click\"]"
   ]
  },
  {
   "cell_type": "markdown",
   "id": "eec2582c-f78d-48bf-9177-4721567b7c74",
   "metadata": {},
   "source": [
    "### Prepare data"
   ]
  },
  {
   "cell_type": "code",
   "execution_count": 32,
   "id": "f3f0520b-587e-4acc-8e46-d489913eff07",
   "metadata": {},
   "outputs": [],
   "source": [
    "df_train['hour'] = df_train['datetime'].dt.hour\n",
    "df_train.drop(columns=[\"datetime\"], inplace=True)"
   ]
  },
  {
   "cell_type": "code",
   "execution_count": 33,
   "id": "36281a37-420e-4707-98a9-ab7be9a99f5b",
   "metadata": {},
   "outputs": [],
   "source": [
    "dv = DictVectorizer(sparse=False)"
   ]
  },
  {
   "cell_type": "code",
   "execution_count": 34,
   "id": "b8e7691b-eac1-49bb-b0e7-a433a50f6912",
   "metadata": {},
   "outputs": [],
   "source": [
    "train_dicts = df_train.to_dict(orient=\"records\")\n",
    "X_train = dv.fit_transform(train_dicts)"
   ]
  },
  {
   "cell_type": "code",
   "execution_count": 35,
   "id": "3feac3e0-b014-4901-8ad2-34dba4a7aba9",
   "metadata": {},
   "outputs": [
    {
     "data": {
      "text/plain": [
       "array(['age_level', 'campaign_id', 'city_development_index',\n",
       "       'gender=Female', 'gender=Male', 'hour', 'product=A', 'product=B',\n",
       "       'product=C', 'product=D', 'product=E', 'product=F', 'product=G',\n",
       "       'product=H', 'product=I', 'product=J', 'product_category_1',\n",
       "       'session_id', 'user_depth', 'user_group_id', 'user_id', 'var_1',\n",
       "       'webpage_id'], dtype=object)"
      ]
     },
     "execution_count": 35,
     "metadata": {},
     "output_type": "execute_result"
    }
   ],
   "source": [
    "dv.get_feature_names_out()"
   ]
  },
  {
   "cell_type": "code",
   "execution_count": 36,
   "id": "b514c0bb-b69a-49c0-850d-ec4c92dad949",
   "metadata": {
    "scrolled": true
   },
   "outputs": [
    {
     "data": {
      "text/plain": [
       "array([[1.00000e+00, 3.59520e+05, 2.00000e+00, 0.00000e+00, 1.00000e+00,\n",
       "        9.00000e+00, 0.00000e+00, 0.00000e+00, 1.00000e+00, 0.00000e+00,\n",
       "        0.00000e+00, 0.00000e+00, 0.00000e+00, 0.00000e+00, 0.00000e+00,\n",
       "        0.00000e+00, 4.00000e+00, 1.26751e+05, 3.00000e+00, 1.00000e+00,\n",
       "        6.63653e+05, 0.00000e+00, 1.37870e+04],\n",
       "       [2.00000e+00, 1.18601e+05, 2.00000e+00, 0.00000e+00, 1.00000e+00,\n",
       "        1.40000e+01, 0.00000e+00, 0.00000e+00, 0.00000e+00, 0.00000e+00,\n",
       "        0.00000e+00, 0.00000e+00, 0.00000e+00, 1.00000e+00, 0.00000e+00,\n",
       "        0.00000e+00, 5.00000e+00, 5.66052e+05, 3.00000e+00, 2.00000e+00,\n",
       "        5.34364e+05, 0.00000e+00, 2.85290e+04],\n",
       "       [3.00000e+00, 4.14149e+05, 3.00000e+00, 0.00000e+00, 1.00000e+00,\n",
       "        1.10000e+01, 0.00000e+00, 0.00000e+00, 0.00000e+00, 1.00000e+00,\n",
       "        0.00000e+00, 0.00000e+00, 0.00000e+00, 0.00000e+00, 0.00000e+00,\n",
       "        0.00000e+00, 5.00000e+00, 1.66348e+05, 3.00000e+00, 3.00000e+00,\n",
       "        3.24020e+04, 1.00000e+00, 4.59620e+04],\n",
       "       [2.00000e+00, 3.60936e+05, 1.00000e+00, 0.00000e+00, 1.00000e+00,\n",
       "        8.00000e+00, 0.00000e+00, 1.00000e+00, 0.00000e+00, 0.00000e+00,\n",
       "        0.00000e+00, 0.00000e+00, 0.00000e+00, 0.00000e+00, 0.00000e+00,\n",
       "        0.00000e+00, 2.00000e+00, 3.54756e+05, 3.00000e+00, 2.00000e+00,\n",
       "        4.64086e+05, 1.00000e+00, 1.37870e+04],\n",
       "       [1.00000e+00, 3.96664e+05, 1.00000e+00, 0.00000e+00, 1.00000e+00,\n",
       "        2.00000e+01, 0.00000e+00, 0.00000e+00, 0.00000e+00, 0.00000e+00,\n",
       "        0.00000e+00, 0.00000e+00, 0.00000e+00, 1.00000e+00, 0.00000e+00,\n",
       "        0.00000e+00, 1.00000e+00, 4.04825e+05, 3.00000e+00, 1.00000e+00,\n",
       "        6.75789e+05, 0.00000e+00, 5.11810e+04]])"
      ]
     },
     "execution_count": 36,
     "metadata": {},
     "output_type": "execute_result"
    }
   ],
   "source": [
    "X_train[:5]"
   ]
  },
  {
   "cell_type": "code",
   "execution_count": 37,
   "id": "cdf4afa5-43d9-467d-a7a1-afbab2b887a3",
   "metadata": {},
   "outputs": [],
   "source": [
    "std_scaler = StandardScaler()"
   ]
  },
  {
   "cell_type": "code",
   "execution_count": 38,
   "id": "08292697-20f1-443e-a539-8ffc01396119",
   "metadata": {},
   "outputs": [],
   "source": [
    "X_train = std_scaler.fit_transform(X_train)"
   ]
  },
  {
   "cell_type": "markdown",
   "id": "17d9fabe-f30c-4fc3-8c35-f2cad742b37e",
   "metadata": {},
   "source": [
    "### Training"
   ]
  },
  {
   "cell_type": "code",
   "execution_count": 39,
   "id": "40985958-cd52-45ef-828c-8492e7876d81",
   "metadata": {},
   "outputs": [],
   "source": [
    "classifiers = {\n",
    "    'lr':LogisticRegression(random_state=SEED),\n",
    "    'sgd':SGDClassifier(random_state=SEED),\n",
    "    'dt':DecisionTreeClassifier(random_state=SEED),             \n",
    "    'rf':RandomForestClassifier(random_state=SEED),            \n",
    "    'xgb':XGBClassifier(random_state=SEED)                      \n",
    "}"
   ]
  },
  {
   "cell_type": "code",
   "execution_count": 40,
   "id": "b9d2633e-9fc9-4e91-bf6f-cc8521056aa9",
   "metadata": {},
   "outputs": [],
   "source": [
    "results = {}\n",
    "for clf in classifiers:\n",
    "    model = classifiers[clf]\n",
    "    score = cross_val_score(model, X_train, y_train, cv=5, scoring = 'f1').mean()\n",
    "    results[clf] = round(score, 2)"
   ]
  },
  {
   "cell_type": "code",
   "execution_count": 46,
   "id": "f403a084-9367-42ea-9fdd-d6b6cc2f6ef1",
   "metadata": {},
   "outputs": [
    {
     "data": {
      "text/plain": [
       "{'lr': 0.0, 'sgd': 0.0, 'dt': 0.08, 'rf': 0.01, 'xgb': 0.0}"
      ]
     },
     "execution_count": 46,
     "metadata": {},
     "output_type": "execute_result"
    }
   ],
   "source": [
    "results"
   ]
  },
  {
   "cell_type": "markdown",
   "id": "b234d33a-d6fb-4120-8802-5295318e277d",
   "metadata": {},
   "source": [
    "### Fine tune"
   ]
  },
  {
   "cell_type": "code",
   "execution_count": 47,
   "id": "0f663bf6-1902-463d-b912-01c9638ecb26",
   "metadata": {},
   "outputs": [
    {
     "name": "stdout",
     "output_type": "stream",
     "text": [
      "Fitting 5 folds for each of 36 candidates, totalling 180 fits\n",
      "Best Parameters: {'max_depth': 5, 'min_samples_leaf': 1, 'min_samples_split': 2}\n",
      "Best F1 Score: 0.14941897727215223\n"
     ]
    }
   ],
   "source": [
    "negative_class = len(y_train[y_train == 0])\n",
    "positive_class = len(y_train[y_train == 1])\n",
    "scale_pos_weight = negative_class / positive_class\n",
    "\n",
    "# Initialize Decision Tree Classifier\n",
    "dt = DecisionTreeClassifier(random_state=SEED, class_weight={0: 1, 1: scale_pos_weight})\n",
    "\n",
    "# Define the parameter grid\n",
    "param_grid = {\n",
    "    'max_depth': [3, 5, 7, 10],            # Maximum depth of the tree\n",
    "    'min_samples_split': [2, 5, 10],      # Minimum number of samples required to split\n",
    "    'min_samples_leaf': [1, 5, 10]       # Minimum number of samples required in a leaf node\n",
    "    \n",
    "}\n",
    "\n",
    "# Initialize GridSearchCV\n",
    "grid_search = GridSearchCV(\n",
    "    estimator=dt,\n",
    "    param_grid=param_grid,\n",
    "    scoring='f1',     # Optimize for F1 score\n",
    "    cv=5,             # 5-fold cross-validation\n",
    "    verbose=1         # Display progress\n",
    ")\n",
    "\n",
    "# Fit the grid search to the data\n",
    "grid_search.fit(X_train, y_train)\n",
    "\n",
    "# Best parameters and score\n",
    "print(\"Best Parameters:\", grid_search.best_params_)\n",
    "print(\"Best F1 Score:\", grid_search.best_score_)"
   ]
  },
  {
   "cell_type": "code",
   "execution_count": 48,
   "id": "196ff4e3-5c8e-40f2-87b0-04cd3204e75a",
   "metadata": {},
   "outputs": [],
   "source": [
    "max_depth = grid_search.best_params_[\"max_depth\"]\n",
    "min_samples_split = grid_search.best_params_[\"min_samples_split\"]\n",
    "min_samples_leaf = grid_search.best_params_[\"min_samples_leaf\"]"
   ]
  },
  {
   "cell_type": "markdown",
   "id": "38d22697-d18c-4cea-a830-75c8d70746e4",
   "metadata": {},
   "source": [
    "### using the model"
   ]
  },
  {
   "cell_type": "code",
   "execution_count": 49,
   "id": "97dd9c7c-877d-4ede-934e-543d9b7db8a0",
   "metadata": {},
   "outputs": [],
   "source": [
    "df_test['hour'] = df_test['datetime'].dt.hour\n",
    "df_test.drop(columns=[\"datetime\"], inplace=True)\n",
    "\n",
    "test_dicts = df_test.to_dict(orient=\"records\")\n",
    "X_test = dv.transform(test_dicts)\n",
    "\n",
    "X_test = std_scaler.transform(X_test)"
   ]
  },
  {
   "cell_type": "code",
   "execution_count": 50,
   "id": "65ab2e22-a153-46ee-8227-a34bd7a6b427",
   "metadata": {},
   "outputs": [
    {
     "name": "stdout",
     "output_type": "stream",
     "text": [
      "Test F1 Score: 0.15001491201908737\n"
     ]
    }
   ],
   "source": [
    "dt = DecisionTreeClassifier(max_depth=max_depth, min_samples_split=min_samples_split, min_samples_leaf=min_samples_leaf, random_state=SEED, class_weight={0: 1, 1: scale_pos_weight})\n",
    "dt.fit(X_train, y_train)\n",
    "\n",
    "y_pred = dt.predict(X_test)\n",
    "print(\"Test F1 Score:\", f1_score(y_test, y_pred))"
   ]
  },
  {
   "cell_type": "code",
   "execution_count": 56,
   "id": "a37714ad-ac85-448e-bee0-9a664e77bc7f",
   "metadata": {},
   "outputs": [],
   "source": [
    "output_file = \"model.bin\"\n",
    "with open(output_file, 'wb') as f_out:\n",
    "    pickle.dump((dv, std_scaler, dt), f_out)"
   ]
  },
  {
   "cell_type": "code",
   "execution_count": null,
   "id": "70380dc9-66fa-4075-9ffe-1348afde0a4d",
   "metadata": {},
   "outputs": [],
   "source": []
  }
 ],
 "metadata": {
  "kernelspec": {
   "display_name": "Python (ml-zoomcamp)",
   "language": "python",
   "name": "ml-zoomcamp"
  },
  "language_info": {
   "codemirror_mode": {
    "name": "ipython",
    "version": 3
   },
   "file_extension": ".py",
   "mimetype": "text/x-python",
   "name": "python",
   "nbconvert_exporter": "python",
   "pygments_lexer": "ipython3",
   "version": "3.12.7"
  }
 },
 "nbformat": 4,
 "nbformat_minor": 5
}
