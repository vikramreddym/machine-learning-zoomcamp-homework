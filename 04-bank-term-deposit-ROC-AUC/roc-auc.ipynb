{
 "cells": [
  {
   "cell_type": "code",
   "id": "initial_id",
   "metadata": {
    "collapsed": true,
    "ExecuteTime": {
     "end_time": "2024-10-23T17:13:17.582198Z",
     "start_time": "2024-10-23T17:13:16.232784Z"
    }
   },
   "source": [
    "import pandas as pd\n",
    "import numpy as np\n",
    "import matplotlib.pyplot as plt"
   ],
   "outputs": [],
   "execution_count": 4
  },
  {
   "metadata": {},
   "cell_type": "markdown",
   "source": "# Dataset",
   "id": "f39fc2376a3402c5"
  },
  {
   "metadata": {
    "ExecuteTime": {
     "end_time": "2024-10-23T17:10:04.089637Z",
     "start_time": "2024-10-23T17:10:03.236551Z"
    }
   },
   "cell_type": "code",
   "source": [
    "import urllib.request\n",
    "\n",
    "url = 'https://archive.ics.uci.edu/static/public/222/bank+marketing.zip'\n",
    "zip_file_name = 'data/data.zip'\n",
    "urllib.request.urlretrieve(url, zip_file_name)"
   ],
   "id": "62e9638aec29758a",
   "outputs": [
    {
     "data": {
      "text/plain": [
       "('data/data.zip', <http.client.HTTPMessage at 0x135505d7520>)"
      ]
     },
     "execution_count": 2,
     "metadata": {},
     "output_type": "execute_result"
    }
   ],
   "execution_count": 2
  },
  {
   "metadata": {},
   "cell_type": "markdown",
   "source": "# Preparing the dataset",
   "id": "4576d39bb7a65238"
  },
  {
   "metadata": {
    "ExecuteTime": {
     "end_time": "2024-10-23T20:00:17.125648Z",
     "start_time": "2024-10-23T20:00:16.997591Z"
    }
   },
   "cell_type": "code",
   "source": [
    "df = pd.read_csv('data/bank-full.csv', sep=';')\n",
    "df.head()"
   ],
   "id": "8822c02278974677",
   "outputs": [
    {
     "data": {
      "text/plain": [
       "   age           job  marital  education default  balance housing loan  \\\n",
       "0   58    management  married   tertiary      no     2143     yes   no   \n",
       "1   44    technician   single  secondary      no       29     yes   no   \n",
       "2   33  entrepreneur  married  secondary      no        2     yes  yes   \n",
       "3   47   blue-collar  married    unknown      no     1506     yes   no   \n",
       "4   33       unknown   single    unknown      no        1      no   no   \n",
       "\n",
       "   contact  day month  duration  campaign  pdays  previous poutcome   y  \n",
       "0  unknown    5   may       261         1     -1         0  unknown  no  \n",
       "1  unknown    5   may       151         1     -1         0  unknown  no  \n",
       "2  unknown    5   may        76         1     -1         0  unknown  no  \n",
       "3  unknown    5   may        92         1     -1         0  unknown  no  \n",
       "4  unknown    5   may       198         1     -1         0  unknown  no  "
      ],
      "text/html": [
       "<div>\n",
       "<style scoped>\n",
       "    .dataframe tbody tr th:only-of-type {\n",
       "        vertical-align: middle;\n",
       "    }\n",
       "\n",
       "    .dataframe tbody tr th {\n",
       "        vertical-align: top;\n",
       "    }\n",
       "\n",
       "    .dataframe thead th {\n",
       "        text-align: right;\n",
       "    }\n",
       "</style>\n",
       "<table border=\"1\" class=\"dataframe\">\n",
       "  <thead>\n",
       "    <tr style=\"text-align: right;\">\n",
       "      <th></th>\n",
       "      <th>age</th>\n",
       "      <th>job</th>\n",
       "      <th>marital</th>\n",
       "      <th>education</th>\n",
       "      <th>default</th>\n",
       "      <th>balance</th>\n",
       "      <th>housing</th>\n",
       "      <th>loan</th>\n",
       "      <th>contact</th>\n",
       "      <th>day</th>\n",
       "      <th>month</th>\n",
       "      <th>duration</th>\n",
       "      <th>campaign</th>\n",
       "      <th>pdays</th>\n",
       "      <th>previous</th>\n",
       "      <th>poutcome</th>\n",
       "      <th>y</th>\n",
       "    </tr>\n",
       "  </thead>\n",
       "  <tbody>\n",
       "    <tr>\n",
       "      <th>0</th>\n",
       "      <td>58</td>\n",
       "      <td>management</td>\n",
       "      <td>married</td>\n",
       "      <td>tertiary</td>\n",
       "      <td>no</td>\n",
       "      <td>2143</td>\n",
       "      <td>yes</td>\n",
       "      <td>no</td>\n",
       "      <td>unknown</td>\n",
       "      <td>5</td>\n",
       "      <td>may</td>\n",
       "      <td>261</td>\n",
       "      <td>1</td>\n",
       "      <td>-1</td>\n",
       "      <td>0</td>\n",
       "      <td>unknown</td>\n",
       "      <td>no</td>\n",
       "    </tr>\n",
       "    <tr>\n",
       "      <th>1</th>\n",
       "      <td>44</td>\n",
       "      <td>technician</td>\n",
       "      <td>single</td>\n",
       "      <td>secondary</td>\n",
       "      <td>no</td>\n",
       "      <td>29</td>\n",
       "      <td>yes</td>\n",
       "      <td>no</td>\n",
       "      <td>unknown</td>\n",
       "      <td>5</td>\n",
       "      <td>may</td>\n",
       "      <td>151</td>\n",
       "      <td>1</td>\n",
       "      <td>-1</td>\n",
       "      <td>0</td>\n",
       "      <td>unknown</td>\n",
       "      <td>no</td>\n",
       "    </tr>\n",
       "    <tr>\n",
       "      <th>2</th>\n",
       "      <td>33</td>\n",
       "      <td>entrepreneur</td>\n",
       "      <td>married</td>\n",
       "      <td>secondary</td>\n",
       "      <td>no</td>\n",
       "      <td>2</td>\n",
       "      <td>yes</td>\n",
       "      <td>yes</td>\n",
       "      <td>unknown</td>\n",
       "      <td>5</td>\n",
       "      <td>may</td>\n",
       "      <td>76</td>\n",
       "      <td>1</td>\n",
       "      <td>-1</td>\n",
       "      <td>0</td>\n",
       "      <td>unknown</td>\n",
       "      <td>no</td>\n",
       "    </tr>\n",
       "    <tr>\n",
       "      <th>3</th>\n",
       "      <td>47</td>\n",
       "      <td>blue-collar</td>\n",
       "      <td>married</td>\n",
       "      <td>unknown</td>\n",
       "      <td>no</td>\n",
       "      <td>1506</td>\n",
       "      <td>yes</td>\n",
       "      <td>no</td>\n",
       "      <td>unknown</td>\n",
       "      <td>5</td>\n",
       "      <td>may</td>\n",
       "      <td>92</td>\n",
       "      <td>1</td>\n",
       "      <td>-1</td>\n",
       "      <td>0</td>\n",
       "      <td>unknown</td>\n",
       "      <td>no</td>\n",
       "    </tr>\n",
       "    <tr>\n",
       "      <th>4</th>\n",
       "      <td>33</td>\n",
       "      <td>unknown</td>\n",
       "      <td>single</td>\n",
       "      <td>unknown</td>\n",
       "      <td>no</td>\n",
       "      <td>1</td>\n",
       "      <td>no</td>\n",
       "      <td>no</td>\n",
       "      <td>unknown</td>\n",
       "      <td>5</td>\n",
       "      <td>may</td>\n",
       "      <td>198</td>\n",
       "      <td>1</td>\n",
       "      <td>-1</td>\n",
       "      <td>0</td>\n",
       "      <td>unknown</td>\n",
       "      <td>no</td>\n",
       "    </tr>\n",
       "  </tbody>\n",
       "</table>\n",
       "</div>"
      ]
     },
     "execution_count": 36,
     "metadata": {},
     "output_type": "execute_result"
    }
   ],
   "execution_count": 36
  },
  {
   "metadata": {
    "ExecuteTime": {
     "end_time": "2024-10-23T17:13:30.054039Z",
     "start_time": "2024-10-23T17:13:30.041693Z"
    }
   },
   "cell_type": "code",
   "source": "df.dtypes",
   "id": "638684fc628fe3b8",
   "outputs": [
    {
     "data": {
      "text/plain": [
       "age           int64\n",
       "job          object\n",
       "marital      object\n",
       "education    object\n",
       "default      object\n",
       "balance       int64\n",
       "housing      object\n",
       "loan         object\n",
       "contact      object\n",
       "day           int64\n",
       "month        object\n",
       "duration      int64\n",
       "campaign      int64\n",
       "pdays         int64\n",
       "previous      int64\n",
       "poutcome     object\n",
       "y            object\n",
       "dtype: object"
      ]
     },
     "execution_count": 6,
     "metadata": {},
     "output_type": "execute_result"
    }
   ],
   "execution_count": 6
  },
  {
   "metadata": {},
   "cell_type": "markdown",
   "source": [
    "For the rest of the homework, you'll need to use only these columns:\n",
    "\n",
    "- age,\n",
    "- job,\n",
    "- marital,\n",
    "- education,\n",
    "- balance,\n",
    "- housing,\n",
    "- contact,\n",
    "- day,\n",
    "- month,\n",
    "- duration,\n",
    "- campaign,\n",
    "- pdays,\n",
    "- previous,\n",
    "- poutcome,\n",
    "- y"
   ],
   "id": "1666473fb0cc27f5"
  },
  {
   "metadata": {
    "ExecuteTime": {
     "end_time": "2024-10-23T20:00:29.638809Z",
     "start_time": "2024-10-23T20:00:29.607701Z"
    }
   },
   "cell_type": "code",
   "source": [
    "df = df.drop(columns= ['default', 'loan'])\n",
    "df.head()"
   ],
   "id": "ea57784edb307e2a",
   "outputs": [
    {
     "data": {
      "text/plain": [
       "   age           job  marital  education  balance housing  contact  day month  \\\n",
       "0   58    management  married   tertiary     2143     yes  unknown    5   may   \n",
       "1   44    technician   single  secondary       29     yes  unknown    5   may   \n",
       "2   33  entrepreneur  married  secondary        2     yes  unknown    5   may   \n",
       "3   47   blue-collar  married    unknown     1506     yes  unknown    5   may   \n",
       "4   33       unknown   single    unknown        1      no  unknown    5   may   \n",
       "\n",
       "   duration  campaign  pdays  previous poutcome   y  \n",
       "0       261         1     -1         0  unknown  no  \n",
       "1       151         1     -1         0  unknown  no  \n",
       "2        76         1     -1         0  unknown  no  \n",
       "3        92         1     -1         0  unknown  no  \n",
       "4       198         1     -1         0  unknown  no  "
      ],
      "text/html": [
       "<div>\n",
       "<style scoped>\n",
       "    .dataframe tbody tr th:only-of-type {\n",
       "        vertical-align: middle;\n",
       "    }\n",
       "\n",
       "    .dataframe tbody tr th {\n",
       "        vertical-align: top;\n",
       "    }\n",
       "\n",
       "    .dataframe thead th {\n",
       "        text-align: right;\n",
       "    }\n",
       "</style>\n",
       "<table border=\"1\" class=\"dataframe\">\n",
       "  <thead>\n",
       "    <tr style=\"text-align: right;\">\n",
       "      <th></th>\n",
       "      <th>age</th>\n",
       "      <th>job</th>\n",
       "      <th>marital</th>\n",
       "      <th>education</th>\n",
       "      <th>balance</th>\n",
       "      <th>housing</th>\n",
       "      <th>contact</th>\n",
       "      <th>day</th>\n",
       "      <th>month</th>\n",
       "      <th>duration</th>\n",
       "      <th>campaign</th>\n",
       "      <th>pdays</th>\n",
       "      <th>previous</th>\n",
       "      <th>poutcome</th>\n",
       "      <th>y</th>\n",
       "    </tr>\n",
       "  </thead>\n",
       "  <tbody>\n",
       "    <tr>\n",
       "      <th>0</th>\n",
       "      <td>58</td>\n",
       "      <td>management</td>\n",
       "      <td>married</td>\n",
       "      <td>tertiary</td>\n",
       "      <td>2143</td>\n",
       "      <td>yes</td>\n",
       "      <td>unknown</td>\n",
       "      <td>5</td>\n",
       "      <td>may</td>\n",
       "      <td>261</td>\n",
       "      <td>1</td>\n",
       "      <td>-1</td>\n",
       "      <td>0</td>\n",
       "      <td>unknown</td>\n",
       "      <td>no</td>\n",
       "    </tr>\n",
       "    <tr>\n",
       "      <th>1</th>\n",
       "      <td>44</td>\n",
       "      <td>technician</td>\n",
       "      <td>single</td>\n",
       "      <td>secondary</td>\n",
       "      <td>29</td>\n",
       "      <td>yes</td>\n",
       "      <td>unknown</td>\n",
       "      <td>5</td>\n",
       "      <td>may</td>\n",
       "      <td>151</td>\n",
       "      <td>1</td>\n",
       "      <td>-1</td>\n",
       "      <td>0</td>\n",
       "      <td>unknown</td>\n",
       "      <td>no</td>\n",
       "    </tr>\n",
       "    <tr>\n",
       "      <th>2</th>\n",
       "      <td>33</td>\n",
       "      <td>entrepreneur</td>\n",
       "      <td>married</td>\n",
       "      <td>secondary</td>\n",
       "      <td>2</td>\n",
       "      <td>yes</td>\n",
       "      <td>unknown</td>\n",
       "      <td>5</td>\n",
       "      <td>may</td>\n",
       "      <td>76</td>\n",
       "      <td>1</td>\n",
       "      <td>-1</td>\n",
       "      <td>0</td>\n",
       "      <td>unknown</td>\n",
       "      <td>no</td>\n",
       "    </tr>\n",
       "    <tr>\n",
       "      <th>3</th>\n",
       "      <td>47</td>\n",
       "      <td>blue-collar</td>\n",
       "      <td>married</td>\n",
       "      <td>unknown</td>\n",
       "      <td>1506</td>\n",
       "      <td>yes</td>\n",
       "      <td>unknown</td>\n",
       "      <td>5</td>\n",
       "      <td>may</td>\n",
       "      <td>92</td>\n",
       "      <td>1</td>\n",
       "      <td>-1</td>\n",
       "      <td>0</td>\n",
       "      <td>unknown</td>\n",
       "      <td>no</td>\n",
       "    </tr>\n",
       "    <tr>\n",
       "      <th>4</th>\n",
       "      <td>33</td>\n",
       "      <td>unknown</td>\n",
       "      <td>single</td>\n",
       "      <td>unknown</td>\n",
       "      <td>1</td>\n",
       "      <td>no</td>\n",
       "      <td>unknown</td>\n",
       "      <td>5</td>\n",
       "      <td>may</td>\n",
       "      <td>198</td>\n",
       "      <td>1</td>\n",
       "      <td>-1</td>\n",
       "      <td>0</td>\n",
       "      <td>unknown</td>\n",
       "      <td>no</td>\n",
       "    </tr>\n",
       "  </tbody>\n",
       "</table>\n",
       "</div>"
      ]
     },
     "execution_count": 37,
     "metadata": {},
     "output_type": "execute_result"
    }
   ],
   "execution_count": 37
  },
  {
   "metadata": {},
   "cell_type": "markdown",
   "source": [
    "## Split the data\n",
    "Split the data into 3 parts: train/validation/test with 60%/20%/20% distribution. Use `train_test_split` function for that with `random_state=1`"
   ],
   "id": "8a2fa1f7a953a4cf"
  },
  {
   "metadata": {
    "ExecuteTime": {
     "end_time": "2024-10-23T20:00:35.955556Z",
     "start_time": "2024-10-23T20:00:35.906423Z"
    }
   },
   "cell_type": "code",
   "source": [
    "from sklearn.model_selection import train_test_split\n",
    "\n",
    "df.y = (df.y == 'yes').astype(int)\n",
    "\n",
    "df_full_train, df_test = train_test_split(df, test_size=0.2, random_state=1)\n",
    "df_train, df_val = train_test_split(df_full_train, test_size=len(df_test), random_state=1)\n",
    "\n",
    "df_train = df_train.reset_index(drop=True)\n",
    "df_val = df_val.reset_index(drop=True)\n",
    "df_test = df_test.reset_index(drop=True)\n",
    "df_full_train = df_full_train.reset_index(drop=True)\n",
    "\n",
    "y_train = df_train['y'].values\n",
    "y_val = df_val['y'].values\n",
    "y_test = df_test['y'].values\n",
    "y_full_train = df_full_train['y'].values\n",
    "\n",
    "del df_train[\"y\"]\n",
    "del df_val[\"y\"]\n",
    "del df_test[\"y\"]\n",
    "del df_full_train['y']"
   ],
   "id": "9961a454cdf7bc82",
   "outputs": [],
   "execution_count": 38
  },
  {
   "metadata": {},
   "cell_type": "markdown",
   "source": [
    "### Question 1: ROC AUC feature importance\n",
    "\n",
    "ROC AUC could also be used to evaluate feature importance of numerical variables. \n",
    "\n",
    "Let's do that\n",
    "\n",
    "* For each numerical variable, use it as score (aka prediction) and compute the AUC with the `y` variable as ground truth.\n",
    "* Use the training dataset for that\n",
    "\n",
    "\n",
    "If your AUC is < 0.5, invert this variable by putting \"-\" in front\n",
    "\n",
    "(e.g. `-df_train['engine_hp']`)\n",
    "\n",
    "AUC can go below 0.5 if the variable is negatively correlated with the target variable. You can change the direction of the correlation by negating this variable - then negative correlation becomes positive.\n",
    "\n",
    "Which numerical variable (among the following 4) has the highest AUC?\n",
    "\n",
    "- `balance`\n",
    "- `day`\n",
    "- `duration`\n",
    "- `previous`"
   ],
   "id": "b9999ee286c19bc7"
  },
  {
   "metadata": {
    "ExecuteTime": {
     "end_time": "2024-10-23T20:00:50.586563Z",
     "start_time": "2024-10-23T20:00:50.556448Z"
    }
   },
   "cell_type": "code",
   "source": "from sklearn.metrics import roc_auc_score",
   "id": "93232d9fd77f357c",
   "outputs": [],
   "execution_count": 39
  },
  {
   "metadata": {
    "ExecuteTime": {
     "end_time": "2024-10-23T20:00:54.236898Z",
     "start_time": "2024-10-23T20:00:54.217871Z"
    }
   },
   "cell_type": "code",
   "source": [
    "df_numeric_train = df_train.select_dtypes(include=['number'])\n",
    "df_numeric_train.head()"
   ],
   "id": "b6fa084103875619",
   "outputs": [
    {
     "data": {
      "text/plain": [
       "   age  balance  day  duration  campaign  pdays  previous\n",
       "0   33     4790   20       137         1    272         2\n",
       "1   32      392   21       148         2     -1         0\n",
       "2   40     2129   30       452         1     -1         0\n",
       "3   54     1180   19       394         2     -1         0\n",
       "4   57       97   16       260         6     -1         0"
      ],
      "text/html": [
       "<div>\n",
       "<style scoped>\n",
       "    .dataframe tbody tr th:only-of-type {\n",
       "        vertical-align: middle;\n",
       "    }\n",
       "\n",
       "    .dataframe tbody tr th {\n",
       "        vertical-align: top;\n",
       "    }\n",
       "\n",
       "    .dataframe thead th {\n",
       "        text-align: right;\n",
       "    }\n",
       "</style>\n",
       "<table border=\"1\" class=\"dataframe\">\n",
       "  <thead>\n",
       "    <tr style=\"text-align: right;\">\n",
       "      <th></th>\n",
       "      <th>age</th>\n",
       "      <th>balance</th>\n",
       "      <th>day</th>\n",
       "      <th>duration</th>\n",
       "      <th>campaign</th>\n",
       "      <th>pdays</th>\n",
       "      <th>previous</th>\n",
       "    </tr>\n",
       "  </thead>\n",
       "  <tbody>\n",
       "    <tr>\n",
       "      <th>0</th>\n",
       "      <td>33</td>\n",
       "      <td>4790</td>\n",
       "      <td>20</td>\n",
       "      <td>137</td>\n",
       "      <td>1</td>\n",
       "      <td>272</td>\n",
       "      <td>2</td>\n",
       "    </tr>\n",
       "    <tr>\n",
       "      <th>1</th>\n",
       "      <td>32</td>\n",
       "      <td>392</td>\n",
       "      <td>21</td>\n",
       "      <td>148</td>\n",
       "      <td>2</td>\n",
       "      <td>-1</td>\n",
       "      <td>0</td>\n",
       "    </tr>\n",
       "    <tr>\n",
       "      <th>2</th>\n",
       "      <td>40</td>\n",
       "      <td>2129</td>\n",
       "      <td>30</td>\n",
       "      <td>452</td>\n",
       "      <td>1</td>\n",
       "      <td>-1</td>\n",
       "      <td>0</td>\n",
       "    </tr>\n",
       "    <tr>\n",
       "      <th>3</th>\n",
       "      <td>54</td>\n",
       "      <td>1180</td>\n",
       "      <td>19</td>\n",
       "      <td>394</td>\n",
       "      <td>2</td>\n",
       "      <td>-1</td>\n",
       "      <td>0</td>\n",
       "    </tr>\n",
       "    <tr>\n",
       "      <th>4</th>\n",
       "      <td>57</td>\n",
       "      <td>97</td>\n",
       "      <td>16</td>\n",
       "      <td>260</td>\n",
       "      <td>6</td>\n",
       "      <td>-1</td>\n",
       "      <td>0</td>\n",
       "    </tr>\n",
       "  </tbody>\n",
       "</table>\n",
       "</div>"
      ]
     },
     "execution_count": 40,
     "metadata": {},
     "output_type": "execute_result"
    }
   ],
   "execution_count": 40
  },
  {
   "metadata": {
    "ExecuteTime": {
     "end_time": "2024-10-23T20:01:10.487824Z",
     "start_time": "2024-10-23T20:01:10.377497Z"
    }
   },
   "cell_type": "code",
   "source": [
    "auc_scores = []\n",
    "for col in df_numeric_train.columns:\n",
    "    auc = roc_auc_score(y_train, df_train[col])\n",
    "    \n",
    "    if auc < 0.5:\n",
    "        auc = roc_auc_score(y_train, -df_train[col])\n",
    "    auc_scores.append({'Column': col, 'AUC': auc})\n",
    "\n",
    "df_numeric_auc_scores = pd.DataFrame(auc_scores)\n",
    "df_numeric_auc_scores"
   ],
   "id": "4e018377cfb92331",
   "outputs": [
    {
     "data": {
      "text/plain": [
       "     Column       AUC\n",
       "0       age  0.512172\n",
       "1   balance  0.588820\n",
       "2       day  0.525965\n",
       "3  duration  0.814694\n",
       "4  campaign  0.571453\n",
       "5     pdays  0.590124\n",
       "6  previous  0.598562"
      ],
      "text/html": [
       "<div>\n",
       "<style scoped>\n",
       "    .dataframe tbody tr th:only-of-type {\n",
       "        vertical-align: middle;\n",
       "    }\n",
       "\n",
       "    .dataframe tbody tr th {\n",
       "        vertical-align: top;\n",
       "    }\n",
       "\n",
       "    .dataframe thead th {\n",
       "        text-align: right;\n",
       "    }\n",
       "</style>\n",
       "<table border=\"1\" class=\"dataframe\">\n",
       "  <thead>\n",
       "    <tr style=\"text-align: right;\">\n",
       "      <th></th>\n",
       "      <th>Column</th>\n",
       "      <th>AUC</th>\n",
       "    </tr>\n",
       "  </thead>\n",
       "  <tbody>\n",
       "    <tr>\n",
       "      <th>0</th>\n",
       "      <td>age</td>\n",
       "      <td>0.512172</td>\n",
       "    </tr>\n",
       "    <tr>\n",
       "      <th>1</th>\n",
       "      <td>balance</td>\n",
       "      <td>0.588820</td>\n",
       "    </tr>\n",
       "    <tr>\n",
       "      <th>2</th>\n",
       "      <td>day</td>\n",
       "      <td>0.525965</td>\n",
       "    </tr>\n",
       "    <tr>\n",
       "      <th>3</th>\n",
       "      <td>duration</td>\n",
       "      <td>0.814694</td>\n",
       "    </tr>\n",
       "    <tr>\n",
       "      <th>4</th>\n",
       "      <td>campaign</td>\n",
       "      <td>0.571453</td>\n",
       "    </tr>\n",
       "    <tr>\n",
       "      <th>5</th>\n",
       "      <td>pdays</td>\n",
       "      <td>0.590124</td>\n",
       "    </tr>\n",
       "    <tr>\n",
       "      <th>6</th>\n",
       "      <td>previous</td>\n",
       "      <td>0.598562</td>\n",
       "    </tr>\n",
       "  </tbody>\n",
       "</table>\n",
       "</div>"
      ]
     },
     "execution_count": 41,
     "metadata": {},
     "output_type": "execute_result"
    }
   ],
   "execution_count": 41
  },
  {
   "metadata": {
    "ExecuteTime": {
     "end_time": "2024-10-23T20:01:21.738170Z",
     "start_time": "2024-10-23T20:01:21.729081Z"
    }
   },
   "cell_type": "code",
   "source": "from sklearn.metrics import roc_curve",
   "id": "f34b495e49371b25",
   "outputs": [],
   "execution_count": 42
  },
  {
   "metadata": {
    "ExecuteTime": {
     "end_time": "2024-10-23T20:01:25.594102Z",
     "start_time": "2024-10-23T20:01:25.149505Z"
    }
   },
   "cell_type": "code",
   "source": [
    "plt.figure(figsize=(5, 5))\n",
    "plt.plot([0, 1], [0, 1], label='random')\n",
    "for col in df_numeric_train.columns:\n",
    "    fpr, tpr, thresholds = roc_curve(y_train, df_train[col])\n",
    "    \n",
    "    plt.plot(fpr, tpr, label=col)\n",
    "    \n",
    "    \n",
    "plt.xlabel('fpr')\n",
    "plt.ylabel('tpr')\n",
    "plt.legend()"
   ],
   "id": "de3edcef4e59a220",
   "outputs": [
    {
     "data": {
      "text/plain": [
       "<matplotlib.legend.Legend at 0x1355ac25d80>"
      ]
     },
     "execution_count": 43,
     "metadata": {},
     "output_type": "execute_result"
    },
    {
     "data": {
      "text/plain": [
       "<Figure size 500x500 with 1 Axes>"
      ],
      "image/png": "[encoded data removed]"
     },
     "metadata": {},
     "output_type": "display_data"
    }
   ],
   "execution_count": 43
  },
  {
   "metadata": {},
   "cell_type": "markdown",
   "source": [
    "### Question 2: Training the model\n",
    "\n",
    "Apply one-hot-encoding using `DictVectorizer` and train the logistic regression with these parameters:\n",
    "\n",
    "```python\n",
    "LogisticRegression(solver='liblinear', C=1.0, max_iter=1000)\n",
    "```\n",
    "\n",
    "What's the AUC of this model on the validation dataset? (round to 3 digits)\n",
    "\n",
    "- 0.69\n",
    "- 0.79\n",
    "- 0.89\n",
    "- 0.99"
   ],
   "id": "5905c2625d54bd48"
  },
  {
   "metadata": {
    "ExecuteTime": {
     "end_time": "2024-10-23T20:14:23.808600Z",
     "start_time": "2024-10-23T20:14:23.791994Z"
    }
   },
   "cell_type": "code",
   "source": "from sklearn.feature_extraction import DictVectorizer",
   "id": "72217031bfceb825",
   "outputs": [],
   "execution_count": 53
  },
  {
   "metadata": {
    "ExecuteTime": {
     "end_time": "2024-10-23T20:14:24.504834Z",
     "start_time": "2024-10-23T20:14:24.489123Z"
    }
   },
   "cell_type": "code",
   "source": "dv = DictVectorizer(sparse=False)",
   "id": "4823ad581e9bc957",
   "outputs": [],
   "execution_count": 54
  },
  {
   "metadata": {
    "ExecuteTime": {
     "end_time": "2024-10-23T20:14:26.262087Z",
     "start_time": "2024-10-23T20:14:25.181546Z"
    }
   },
   "cell_type": "code",
   "source": [
    "train_dicts = df_train.to_dict(orient='records')\n",
    "X_train = dv.fit_transform(train_dicts)"
   ],
   "id": "bf523d0d12ec8375",
   "outputs": [],
   "execution_count": 55
  },
  {
   "metadata": {
    "ExecuteTime": {
     "end_time": "2024-10-23T20:14:26.615267Z",
     "start_time": "2024-10-23T20:14:26.271862Z"
    }
   },
   "cell_type": "code",
   "source": [
    "val_dicts = df_val.to_dict(orient='records')\n",
    "X_val = dv.transform(val_dicts)"
   ],
   "id": "a70dc8e3c623176a",
   "outputs": [],
   "execution_count": 56
  },
  {
   "metadata": {
    "ExecuteTime": {
     "end_time": "2024-10-23T20:14:27.784025Z",
     "start_time": "2024-10-23T20:14:27.767883Z"
    }
   },
   "cell_type": "code",
   "source": "from sklearn.linear_model import LogisticRegression",
   "id": "dad3a94b6ae0511e",
   "outputs": [],
   "execution_count": 57
  },
  {
   "metadata": {
    "ExecuteTime": {
     "end_time": "2024-10-23T20:14:29.343286Z",
     "start_time": "2024-10-23T20:14:28.781344Z"
    }
   },
   "cell_type": "code",
   "source": [
    "model = LogisticRegression(solver='liblinear', C=1.0, max_iter=1000)\n",
    "model.fit(X_train, y_train)\n",
    "y_pred = model.predict_proba(X_val)[:,1]"
   ],
   "id": "cadbec28af0356a1",
   "outputs": [],
   "execution_count": 58
  },
  {
   "metadata": {
    "ExecuteTime": {
     "end_time": "2024-10-23T20:16:27.935531Z",
     "start_time": "2024-10-23T20:16:27.901212Z"
    }
   },
   "cell_type": "code",
   "source": [
    "auc = roc_auc_score(y_val, y_pred)\n",
    "round(auc, 3)"
   ],
   "id": "ab79a6d5cee67124",
   "outputs": [
    {
     "data": {
      "text/plain": [
       "0.9"
      ]
     },
     "execution_count": 60,
     "metadata": {},
     "output_type": "execute_result"
    }
   ],
   "execution_count": 60
  },
  {
   "metadata": {},
   "cell_type": "markdown",
   "source": [
    "### Question 3: Precision and Recall\n",
    "\n",
    "Now let's compute precision and recall for our model.\n",
    "\n",
    "* Evaluate the model on all thresholds from 0.0 to 1.0 with step 0.01\n",
    "* For each threshold, compute precision and recall\n",
    "* Plot them\n",
    "\n",
    "At which threshold precision and recall curves intersect?\n",
    "\n",
    "* 0.265\n",
    "* 0.465\n",
    "* 0.665\n",
    "* 0.865"
   ],
   "id": "65a65cdb8a440b34"
  },
  {
   "metadata": {
    "ExecuteTime": {
     "end_time": "2024-10-23T21:06:47.949856Z",
     "start_time": "2024-10-23T21:06:47.900608Z"
    }
   },
   "cell_type": "code",
   "source": [
    "thresholds = np.linspace(0,1,101)\n",
    "actual_positive = (y_val == 1)\n",
    "actual_negative = (y_val == 0)\n",
    "scores = []\n",
    "for t in thresholds:\n",
    "    predict_positive = (y_pred >= t)\n",
    "    predict_negative = (y_pred < t)\n",
    "    tp = (predict_positive & actual_positive).sum()\n",
    "    tn = (predict_negative & actual_negative).sum()\n",
    "    fp = (predict_positive & actual_negative).sum()\n",
    "    fn = (predict_negative & actual_positive).sum()\n",
    "    \n",
    "    scores.append((t,tp,fp,fn,tn))\n",
    "cols = ['threshold', 'tp', 'fp', 'fn', 'tn']\n",
    "df_scores = pd.DataFrame(scores, columns = cols)\n",
    "df_scores['precision'] = df_scores.tp/(df_scores.tp+df_scores.fp)\n",
    "df_scores['recall'] = df_scores.tp/(df_scores.tp+df_scores.fn)\n",
    "df_scores.head()"
   ],
   "id": "db7a44723a4b6a58",
   "outputs": [
    {
     "data": {
      "text/plain": [
       "   threshold    tp    fp  fn    tn  precision    recall\n",
       "0       0.00  1098  7945   0     0   0.121420  1.000000\n",
       "1       0.01  1094  6965   4   980   0.135749  0.996357\n",
       "2       0.02  1093  5762   5  2183   0.159446  0.995446\n",
       "3       0.03  1087  4727  11  3218   0.186963  0.989982\n",
       "4       0.04  1064  3804  34  4141   0.218570  0.969035"
      ],
      "text/html": [
       "<div>\n",
       "<style scoped>\n",
       "    .dataframe tbody tr th:only-of-type {\n",
       "        vertical-align: middle;\n",
       "    }\n",
       "\n",
       "    .dataframe tbody tr th {\n",
       "        vertical-align: top;\n",
       "    }\n",
       "\n",
       "    .dataframe thead th {\n",
       "        text-align: right;\n",
       "    }\n",
       "</style>\n",
       "<table border=\"1\" class=\"dataframe\">\n",
       "  <thead>\n",
       "    <tr style=\"text-align: right;\">\n",
       "      <th></th>\n",
       "      <th>threshold</th>\n",
       "      <th>tp</th>\n",
       "      <th>fp</th>\n",
       "      <th>fn</th>\n",
       "      <th>tn</th>\n",
       "      <th>precision</th>\n",
       "      <th>recall</th>\n",
       "    </tr>\n",
       "  </thead>\n",
       "  <tbody>\n",
       "    <tr>\n",
       "      <th>0</th>\n",
       "      <td>0.00</td>\n",
       "      <td>1098</td>\n",
       "      <td>7945</td>\n",
       "      <td>0</td>\n",
       "      <td>0</td>\n",
       "      <td>0.121420</td>\n",
       "      <td>1.000000</td>\n",
       "    </tr>\n",
       "    <tr>\n",
       "      <th>1</th>\n",
       "      <td>0.01</td>\n",
       "      <td>1094</td>\n",
       "      <td>6965</td>\n",
       "      <td>4</td>\n",
       "      <td>980</td>\n",
       "      <td>0.135749</td>\n",
       "      <td>0.996357</td>\n",
       "    </tr>\n",
       "    <tr>\n",
       "      <th>2</th>\n",
       "      <td>0.02</td>\n",
       "      <td>1093</td>\n",
       "      <td>5762</td>\n",
       "      <td>5</td>\n",
       "      <td>2183</td>\n",
       "      <td>0.159446</td>\n",
       "      <td>0.995446</td>\n",
       "    </tr>\n",
       "    <tr>\n",
       "      <th>3</th>\n",
       "      <td>0.03</td>\n",
       "      <td>1087</td>\n",
       "      <td>4727</td>\n",
       "      <td>11</td>\n",
       "      <td>3218</td>\n",
       "      <td>0.186963</td>\n",
       "      <td>0.989982</td>\n",
       "    </tr>\n",
       "    <tr>\n",
       "      <th>4</th>\n",
       "      <td>0.04</td>\n",
       "      <td>1064</td>\n",
       "      <td>3804</td>\n",
       "      <td>34</td>\n",
       "      <td>4141</td>\n",
       "      <td>0.218570</td>\n",
       "      <td>0.969035</td>\n",
       "    </tr>\n",
       "  </tbody>\n",
       "</table>\n",
       "</div>"
      ]
     },
     "execution_count": 81,
     "metadata": {},
     "output_type": "execute_result"
    }
   ],
   "execution_count": 81
  },
  {
   "metadata": {
    "ExecuteTime": {
     "end_time": "2024-10-23T21:06:50.023081Z",
     "start_time": "2024-10-23T21:06:49.761349Z"
    }
   },
   "cell_type": "code",
   "source": [
    "plt.plot(df_scores.threshold, df_scores.precision, label='precision')\n",
    "plt.plot(df_scores.threshold, df_scores.recall, label='recall')\n",
    "\n",
    "plt.xlabel('Threshold')\n",
    "plt.ylabel('prec-recall')\n",
    "plt.legend()"
   ],
   "id": "b16e4179ffb5ed05",
   "outputs": [
    {
     "data": {
      "text/plain": [
       "<matplotlib.legend.Legend at 0x13557ee9150>"
      ]
     },
     "execution_count": 82,
     "metadata": {},
     "output_type": "execute_result"
    },
    {
     "data": {
      "text/plain": [
       "<Figure size 640x480 with 1 Axes>"
      ],
      "image/png": "[encoded data removed]"
     },
     "metadata": {},
     "output_type": "display_data"
    }
   ],
   "execution_count": 82
  },
  {
   "metadata": {
    "ExecuteTime": {
     "end_time": "2024-10-23T20:33:57.285611Z",
     "start_time": "2024-10-23T20:33:57.237313Z"
    }
   },
   "cell_type": "code",
   "source": "df_scores[:33]",
   "id": "b99be05503a8f888",
   "outputs": [
    {
     "data": {
      "text/plain": [
       "    threshold    tp    fp   fn    tn  precision    recall\n",
       "0        0.00  1098  7945    0     0   0.121420  1.000000\n",
       "1        0.01  1094  6965    4   980   0.135749  0.996357\n",
       "2        0.02  1093  5762    5  2183   0.159446  0.995446\n",
       "3        0.03  1087  4727   11  3218   0.186963  0.989982\n",
       "4        0.04  1064  3804   34  4141   0.218570  0.969035\n",
       "5        0.05  1049  3087   49  4858   0.253627  0.955373\n",
       "6        0.06  1022  2529   76  5416   0.287806  0.930783\n",
       "7        0.07   992  2164  106  5781   0.314322  0.903461\n",
       "8        0.08   973  1874  125  6071   0.341763  0.886157\n",
       "9        0.09   946  1643  152  6302   0.365392  0.861566\n",
       "10       0.10   927  1493  171  6452   0.383058  0.844262\n",
       "11       0.11   896  1363  202  6582   0.396636  0.816029\n",
       "12       0.12   862  1216  236  6729   0.414822  0.785064\n",
       "13       0.13   836  1117  262  6828   0.428059  0.761384\n",
       "14       0.14   815  1040  283  6905   0.439353  0.742259\n",
       "15       0.15   798   969  300  6976   0.451613  0.726776\n",
       "16       0.16   778   900  320  7045   0.463647  0.708561\n",
       "17       0.17   761   842  337  7103   0.474735  0.693078\n",
       "18       0.18   744   784  354  7161   0.486911  0.677596\n",
       "19       0.19   729   730  369  7215   0.499657  0.663934\n",
       "20       0.20   712   692  386  7253   0.507123  0.648452\n",
       "21       0.21   699   655  399  7290   0.516248  0.636612\n",
       "22       0.22   688   617  410  7328   0.527203  0.626594\n",
       "23       0.23   668   576  430  7369   0.536977  0.608379\n",
       "24       0.24   651   551  447  7394   0.541597  0.592896\n",
       "25       0.25   635   516  463  7429   0.551694  0.578324\n",
       "26       0.26   623   495  475  7450   0.557245  0.567395\n",
       "27       0.27   607   474  491  7471   0.561517  0.552823\n",
       "28       0.28   596   453  502  7492   0.568160  0.542805\n",
       "29       0.29   581   435  517  7510   0.571850  0.529144\n",
       "30       0.30   566   412  532  7533   0.578732  0.515483\n",
       "31       0.31   555   394  543  7551   0.584826  0.505464\n",
       "32       0.32   547   379  551  7566   0.590713  0.498179"
      ],
      "text/html": [
       "<div>\n",
       "<style scoped>\n",
       "    .dataframe tbody tr th:only-of-type {\n",
       "        vertical-align: middle;\n",
       "    }\n",
       "\n",
       "    .dataframe tbody tr th {\n",
       "        vertical-align: top;\n",
       "    }\n",
       "\n",
       "    .dataframe thead th {\n",
       "        text-align: right;\n",
       "    }\n",
       "</style>\n",
       "<table border=\"1\" class=\"dataframe\">\n",
       "  <thead>\n",
       "    <tr style=\"text-align: right;\">\n",
       "      <th></th>\n",
       "      <th>threshold</th>\n",
       "      <th>tp</th>\n",
       "      <th>fp</th>\n",
       "      <th>fn</th>\n",
       "      <th>tn</th>\n",
       "      <th>precision</th>\n",
       "      <th>recall</th>\n",
       "    </tr>\n",
       "  </thead>\n",
       "  <tbody>\n",
       "    <tr>\n",
       "      <th>0</th>\n",
       "      <td>0.00</td>\n",
       "      <td>1098</td>\n",
       "      <td>7945</td>\n",
       "      <td>0</td>\n",
       "      <td>0</td>\n",
       "      <td>0.121420</td>\n",
       "      <td>1.000000</td>\n",
       "    </tr>\n",
       "    <tr>\n",
       "      <th>1</th>\n",
       "      <td>0.01</td>\n",
       "      <td>1094</td>\n",
       "      <td>6965</td>\n",
       "      <td>4</td>\n",
       "      <td>980</td>\n",
       "      <td>0.135749</td>\n",
       "      <td>0.996357</td>\n",
       "    </tr>\n",
       "    <tr>\n",
       "      <th>2</th>\n",
       "      <td>0.02</td>\n",
       "      <td>1093</td>\n",
       "      <td>5762</td>\n",
       "      <td>5</td>\n",
       "      <td>2183</td>\n",
       "      <td>0.159446</td>\n",
       "      <td>0.995446</td>\n",
       "    </tr>\n",
       "    <tr>\n",
       "      <th>3</th>\n",
       "      <td>0.03</td>\n",
       "      <td>1087</td>\n",
       "      <td>4727</td>\n",
       "      <td>11</td>\n",
       "      <td>3218</td>\n",
       "      <td>0.186963</td>\n",
       "      <td>0.989982</td>\n",
       "    </tr>\n",
       "    <tr>\n",
       "      <th>4</th>\n",
       "      <td>0.04</td>\n",
       "      <td>1064</td>\n",
       "      <td>3804</td>\n",
       "      <td>34</td>\n",
       "      <td>4141</td>\n",
       "      <td>0.218570</td>\n",
       "      <td>0.969035</td>\n",
       "    </tr>\n",
       "    <tr>\n",
       "      <th>5</th>\n",
       "      <td>0.05</td>\n",
       "      <td>1049</td>\n",
       "      <td>3087</td>\n",
       "      <td>49</td>\n",
       "      <td>4858</td>\n",
       "      <td>0.253627</td>\n",
       "      <td>0.955373</td>\n",
       "    </tr>\n",
       "    <tr>\n",
       "      <th>6</th>\n",
       "      <td>0.06</td>\n",
       "      <td>1022</td>\n",
       "      <td>2529</td>\n",
       "      <td>76</td>\n",
       "      <td>5416</td>\n",
       "      <td>0.287806</td>\n",
       "      <td>0.930783</td>\n",
       "    </tr>\n",
       "    <tr>\n",
       "      <th>7</th>\n",
       "      <td>0.07</td>\n",
       "      <td>992</td>\n",
       "      <td>2164</td>\n",
       "      <td>106</td>\n",
       "      <td>5781</td>\n",
       "      <td>0.314322</td>\n",
       "      <td>0.903461</td>\n",
       "    </tr>\n",
       "    <tr>\n",
       "      <th>8</th>\n",
       "      <td>0.08</td>\n",
       "      <td>973</td>\n",
       "      <td>1874</td>\n",
       "      <td>125</td>\n",
       "      <td>6071</td>\n",
       "      <td>0.341763</td>\n",
       "      <td>0.886157</td>\n",
       "    </tr>\n",
       "    <tr>\n",
       "      <th>9</th>\n",
       "      <td>0.09</td>\n",
       "      <td>946</td>\n",
       "      <td>1643</td>\n",
       "      <td>152</td>\n",
       "      <td>6302</td>\n",
       "      <td>0.365392</td>\n",
       "      <td>0.861566</td>\n",
       "    </tr>\n",
       "    <tr>\n",
       "      <th>10</th>\n",
       "      <td>0.10</td>\n",
       "      <td>927</td>\n",
       "      <td>1493</td>\n",
       "      <td>171</td>\n",
       "      <td>6452</td>\n",
       "      <td>0.383058</td>\n",
       "      <td>0.844262</td>\n",
       "    </tr>\n",
       "    <tr>\n",
       "      <th>11</th>\n",
       "      <td>0.11</td>\n",
       "      <td>896</td>\n",
       "      <td>1363</td>\n",
       "      <td>202</td>\n",
       "      <td>6582</td>\n",
       "      <td>0.396636</td>\n",
       "      <td>0.816029</td>\n",
       "    </tr>\n",
       "    <tr>\n",
       "      <th>12</th>\n",
       "      <td>0.12</td>\n",
       "      <td>862</td>\n",
       "      <td>1216</td>\n",
       "      <td>236</td>\n",
       "      <td>6729</td>\n",
       "      <td>0.414822</td>\n",
       "      <td>0.785064</td>\n",
       "    </tr>\n",
       "    <tr>\n",
       "      <th>13</th>\n",
       "      <td>0.13</td>\n",
       "      <td>836</td>\n",
       "      <td>1117</td>\n",
       "      <td>262</td>\n",
       "      <td>6828</td>\n",
       "      <td>0.428059</td>\n",
       "      <td>0.761384</td>\n",
       "    </tr>\n",
       "    <tr>\n",
       "      <th>14</th>\n",
       "      <td>0.14</td>\n",
       "      <td>815</td>\n",
       "      <td>1040</td>\n",
       "      <td>283</td>\n",
       "      <td>6905</td>\n",
       "      <td>0.439353</td>\n",
       "      <td>0.742259</td>\n",
       "    </tr>\n",
       "    <tr>\n",
       "      <th>15</th>\n",
       "      <td>0.15</td>\n",
       "      <td>798</td>\n",
       "      <td>969</td>\n",
       "      <td>300</td>\n",
       "      <td>6976</td>\n",
       "      <td>0.451613</td>\n",
       "      <td>0.726776</td>\n",
       "    </tr>\n",
       "    <tr>\n",
       "      <th>16</th>\n",
       "      <td>0.16</td>\n",
       "      <td>778</td>\n",
       "      <td>900</td>\n",
       "      <td>320</td>\n",
       "      <td>7045</td>\n",
       "      <td>0.463647</td>\n",
       "      <td>0.708561</td>\n",
       "    </tr>\n",
       "    <tr>\n",
       "      <th>17</th>\n",
       "      <td>0.17</td>\n",
       "      <td>761</td>\n",
       "      <td>842</td>\n",
       "      <td>337</td>\n",
       "      <td>7103</td>\n",
       "      <td>0.474735</td>\n",
       "      <td>0.693078</td>\n",
       "    </tr>\n",
       "    <tr>\n",
       "      <th>18</th>\n",
       "      <td>0.18</td>\n",
       "      <td>744</td>\n",
       "      <td>784</td>\n",
       "      <td>354</td>\n",
       "      <td>7161</td>\n",
       "      <td>0.486911</td>\n",
       "      <td>0.677596</td>\n",
       "    </tr>\n",
       "    <tr>\n",
       "      <th>19</th>\n",
       "      <td>0.19</td>\n",
       "      <td>729</td>\n",
       "      <td>730</td>\n",
       "      <td>369</td>\n",
       "      <td>7215</td>\n",
       "      <td>0.499657</td>\n",
       "      <td>0.663934</td>\n",
       "    </tr>\n",
       "    <tr>\n",
       "      <th>20</th>\n",
       "      <td>0.20</td>\n",
       "      <td>712</td>\n",
       "      <td>692</td>\n",
       "      <td>386</td>\n",
       "      <td>7253</td>\n",
       "      <td>0.507123</td>\n",
       "      <td>0.648452</td>\n",
       "    </tr>\n",
       "    <tr>\n",
       "      <th>21</th>\n",
       "      <td>0.21</td>\n",
       "      <td>699</td>\n",
       "      <td>655</td>\n",
       "      <td>399</td>\n",
       "      <td>7290</td>\n",
       "      <td>0.516248</td>\n",
       "      <td>0.636612</td>\n",
       "    </tr>\n",
       "    <tr>\n",
       "      <th>22</th>\n",
       "      <td>0.22</td>\n",
       "      <td>688</td>\n",
       "      <td>617</td>\n",
       "      <td>410</td>\n",
       "      <td>7328</td>\n",
       "      <td>0.527203</td>\n",
       "      <td>0.626594</td>\n",
       "    </tr>\n",
       "    <tr>\n",
       "      <th>23</th>\n",
       "      <td>0.23</td>\n",
       "      <td>668</td>\n",
       "      <td>576</td>\n",
       "      <td>430</td>\n",
       "      <td>7369</td>\n",
       "      <td>0.536977</td>\n",
       "      <td>0.608379</td>\n",
       "    </tr>\n",
       "    <tr>\n",
       "      <th>24</th>\n",
       "      <td>0.24</td>\n",
       "      <td>651</td>\n",
       "      <td>551</td>\n",
       "      <td>447</td>\n",
       "      <td>7394</td>\n",
       "      <td>0.541597</td>\n",
       "      <td>0.592896</td>\n",
       "    </tr>\n",
       "    <tr>\n",
       "      <th>25</th>\n",
       "      <td>0.25</td>\n",
       "      <td>635</td>\n",
       "      <td>516</td>\n",
       "      <td>463</td>\n",
       "      <td>7429</td>\n",
       "      <td>0.551694</td>\n",
       "      <td>0.578324</td>\n",
       "    </tr>\n",
       "    <tr>\n",
       "      <th>26</th>\n",
       "      <td>0.26</td>\n",
       "      <td>623</td>\n",
       "      <td>495</td>\n",
       "      <td>475</td>\n",
       "      <td>7450</td>\n",
       "      <td>0.557245</td>\n",
       "      <td>0.567395</td>\n",
       "    </tr>\n",
       "    <tr>\n",
       "      <th>27</th>\n",
       "      <td>0.27</td>\n",
       "      <td>607</td>\n",
       "      <td>474</td>\n",
       "      <td>491</td>\n",
       "      <td>7471</td>\n",
       "      <td>0.561517</td>\n",
       "      <td>0.552823</td>\n",
       "    </tr>\n",
       "    <tr>\n",
       "      <th>28</th>\n",
       "      <td>0.28</td>\n",
       "      <td>596</td>\n",
       "      <td>453</td>\n",
       "      <td>502</td>\n",
       "      <td>7492</td>\n",
       "      <td>0.568160</td>\n",
       "      <td>0.542805</td>\n",
       "    </tr>\n",
       "    <tr>\n",
       "      <th>29</th>\n",
       "      <td>0.29</td>\n",
       "      <td>581</td>\n",
       "      <td>435</td>\n",
       "      <td>517</td>\n",
       "      <td>7510</td>\n",
       "      <td>0.571850</td>\n",
       "      <td>0.529144</td>\n",
       "    </tr>\n",
       "    <tr>\n",
       "      <th>30</th>\n",
       "      <td>0.30</td>\n",
       "      <td>566</td>\n",
       "      <td>412</td>\n",
       "      <td>532</td>\n",
       "      <td>7533</td>\n",
       "      <td>0.578732</td>\n",
       "      <td>0.515483</td>\n",
       "    </tr>\n",
       "    <tr>\n",
       "      <th>31</th>\n",
       "      <td>0.31</td>\n",
       "      <td>555</td>\n",
       "      <td>394</td>\n",
       "      <td>543</td>\n",
       "      <td>7551</td>\n",
       "      <td>0.584826</td>\n",
       "      <td>0.505464</td>\n",
       "    </tr>\n",
       "    <tr>\n",
       "      <th>32</th>\n",
       "      <td>0.32</td>\n",
       "      <td>547</td>\n",
       "      <td>379</td>\n",
       "      <td>551</td>\n",
       "      <td>7566</td>\n",
       "      <td>0.590713</td>\n",
       "      <td>0.498179</td>\n",
       "    </tr>\n",
       "  </tbody>\n",
       "</table>\n",
       "</div>"
      ]
     },
     "execution_count": 67,
     "metadata": {},
     "output_type": "execute_result"
    }
   ],
   "execution_count": 67
  },
  {
   "metadata": {
    "ExecuteTime": {
     "end_time": "2024-10-23T20:44:57.156979Z",
     "start_time": "2024-10-23T20:44:57.022251Z"
    }
   },
   "cell_type": "code",
   "source": [
    "thresholds = np.linspace(0,1,1001)\n",
    "actual_positive = (y_val == 1)\n",
    "actual_negative = (y_val == 0)\n",
    "scores = []\n",
    "for t in thresholds:\n",
    "    predict_positive = (y_pred >= t)\n",
    "    predict_negative = (y_pred < t)\n",
    "    tp = (predict_positive & actual_positive).sum()\n",
    "    tn = (predict_negative & actual_negative).sum()\n",
    "    fp = (predict_positive & actual_negative).sum()\n",
    "    fn = (predict_negative & actual_positive).sum()\n",
    "    \n",
    "    scores.append((t,tp,fp,fn,tn))\n",
    "cols = ['threshold', 'tp', 'fp', 'fn', 'tn']\n",
    "df_scores = pd.DataFrame(scores, columns = cols)\n",
    "df_scores['precision'] = df_scores.tp/(df_scores.tp+df_scores.fp)\n",
    "df_scores['recall'] = df_scores.tp/(df_scores.tp+df_scores.fn)\n",
    "df_scores.head()"
   ],
   "id": "9d14a1786258fc8",
   "outputs": [
    {
     "data": {
      "text/plain": [
       "   threshold    tp    fp  fn   tn  precision    recall\n",
       "0      0.000  1098  7945   0    0   0.121420  1.000000\n",
       "1      0.001  1098  7934   0   11   0.121568  1.000000\n",
       "2      0.002  1098  7912   0   33   0.121865  1.000000\n",
       "3      0.003  1098  7876   0   69   0.122353  1.000000\n",
       "4      0.004  1097  7797   1  148   0.123342  0.999089"
      ],
      "text/html": [
       "<div>\n",
       "<style scoped>\n",
       "    .dataframe tbody tr th:only-of-type {\n",
       "        vertical-align: middle;\n",
       "    }\n",
       "\n",
       "    .dataframe tbody tr th {\n",
       "        vertical-align: top;\n",
       "    }\n",
       "\n",
       "    .dataframe thead th {\n",
       "        text-align: right;\n",
       "    }\n",
       "</style>\n",
       "<table border=\"1\" class=\"dataframe\">\n",
       "  <thead>\n",
       "    <tr style=\"text-align: right;\">\n",
       "      <th></th>\n",
       "      <th>threshold</th>\n",
       "      <th>tp</th>\n",
       "      <th>fp</th>\n",
       "      <th>fn</th>\n",
       "      <th>tn</th>\n",
       "      <th>precision</th>\n",
       "      <th>recall</th>\n",
       "    </tr>\n",
       "  </thead>\n",
       "  <tbody>\n",
       "    <tr>\n",
       "      <th>0</th>\n",
       "      <td>0.000</td>\n",
       "      <td>1098</td>\n",
       "      <td>7945</td>\n",
       "      <td>0</td>\n",
       "      <td>0</td>\n",
       "      <td>0.121420</td>\n",
       "      <td>1.000000</td>\n",
       "    </tr>\n",
       "    <tr>\n",
       "      <th>1</th>\n",
       "      <td>0.001</td>\n",
       "      <td>1098</td>\n",
       "      <td>7934</td>\n",
       "      <td>0</td>\n",
       "      <td>11</td>\n",
       "      <td>0.121568</td>\n",
       "      <td>1.000000</td>\n",
       "    </tr>\n",
       "    <tr>\n",
       "      <th>2</th>\n",
       "      <td>0.002</td>\n",
       "      <td>1098</td>\n",
       "      <td>7912</td>\n",
       "      <td>0</td>\n",
       "      <td>33</td>\n",
       "      <td>0.121865</td>\n",
       "      <td>1.000000</td>\n",
       "    </tr>\n",
       "    <tr>\n",
       "      <th>3</th>\n",
       "      <td>0.003</td>\n",
       "      <td>1098</td>\n",
       "      <td>7876</td>\n",
       "      <td>0</td>\n",
       "      <td>69</td>\n",
       "      <td>0.122353</td>\n",
       "      <td>1.000000</td>\n",
       "    </tr>\n",
       "    <tr>\n",
       "      <th>4</th>\n",
       "      <td>0.004</td>\n",
       "      <td>1097</td>\n",
       "      <td>7797</td>\n",
       "      <td>1</td>\n",
       "      <td>148</td>\n",
       "      <td>0.123342</td>\n",
       "      <td>0.999089</td>\n",
       "    </tr>\n",
       "  </tbody>\n",
       "</table>\n",
       "</div>"
      ]
     },
     "execution_count": 79,
     "metadata": {},
     "output_type": "execute_result"
    }
   ],
   "execution_count": 79
  },
  {
   "metadata": {
    "ExecuteTime": {
     "end_time": "2024-10-23T20:44:58.442374Z",
     "start_time": "2024-10-23T20:44:58.409903Z"
    }
   },
   "cell_type": "code",
   "source": "df_scores[df_scores.precision == df_scores.recall]",
   "id": "abbcf9502a5521b9",
   "outputs": [
    {
     "data": {
      "text/plain": [
       "     threshold   tp   fp   fn    tn  precision    recall\n",
       "266      0.266  614  484  484  7461   0.559199  0.559199"
      ],
      "text/html": [
       "<div>\n",
       "<style scoped>\n",
       "    .dataframe tbody tr th:only-of-type {\n",
       "        vertical-align: middle;\n",
       "    }\n",
       "\n",
       "    .dataframe tbody tr th {\n",
       "        vertical-align: top;\n",
       "    }\n",
       "\n",
       "    .dataframe thead th {\n",
       "        text-align: right;\n",
       "    }\n",
       "</style>\n",
       "<table border=\"1\" class=\"dataframe\">\n",
       "  <thead>\n",
       "    <tr style=\"text-align: right;\">\n",
       "      <th></th>\n",
       "      <th>threshold</th>\n",
       "      <th>tp</th>\n",
       "      <th>fp</th>\n",
       "      <th>fn</th>\n",
       "      <th>tn</th>\n",
       "      <th>precision</th>\n",
       "      <th>recall</th>\n",
       "    </tr>\n",
       "  </thead>\n",
       "  <tbody>\n",
       "    <tr>\n",
       "      <th>266</th>\n",
       "      <td>0.266</td>\n",
       "      <td>614</td>\n",
       "      <td>484</td>\n",
       "      <td>484</td>\n",
       "      <td>7461</td>\n",
       "      <td>0.559199</td>\n",
       "      <td>0.559199</td>\n",
       "    </tr>\n",
       "  </tbody>\n",
       "</table>\n",
       "</div>"
      ]
     },
     "execution_count": 80,
     "metadata": {},
     "output_type": "execute_result"
    }
   ],
   "execution_count": 80
  },
  {
   "metadata": {},
   "cell_type": "markdown",
   "source": [
    "### Question 4: F1 score\n",
    "\n",
    "Precision and recall are conflicting - when one grows, the other goes down. That's why they are often combined into the F1 score - a metrics that takes into account both\n",
    "\n",
    "This is the formula for computing F1:\n",
    "\n",
    "$$F_1 = 2 \\cdot \\cfrac{P \\cdot R}{P + R}$$\n",
    "\n",
    "Where $P$ is precision and $R$ is recall.\n",
    "\n",
    "Let's compute F1 for all thresholds from 0.0 to 1.0 with increment 0.01\n",
    "\n",
    "At which threshold F1 is maximal?\n",
    "\n",
    "- 0.02\n",
    "- 0.22\n",
    "- 0.42\n",
    "- 0.62"
   ],
   "id": "4472c11f9d468a8c"
  },
  {
   "metadata": {
    "ExecuteTime": {
     "end_time": "2024-10-23T21:31:53.137565Z",
     "start_time": "2024-10-23T21:31:53.105649Z"
    }
   },
   "cell_type": "code",
   "source": "df_scores['F1'] = (2 * df_scores.precision * df_scores.recall)/(df_scores.precision + df_scores.recall)",
   "id": "db7e77810c7efad0",
   "outputs": [],
   "execution_count": 84
  },
  {
   "metadata": {
    "ExecuteTime": {
     "end_time": "2024-10-23T21:41:56.266568Z",
     "start_time": "2024-10-23T21:41:56.250930Z"
    }
   },
   "cell_type": "code",
   "source": "df_scores.head()",
   "id": "23f86d686dd65090",
   "outputs": [
    {
     "data": {
      "text/plain": [
       "   threshold    tp    fp  fn    tn  precision    recall        F1\n",
       "0       0.00  1098  7945   0     0   0.121420  1.000000  0.216547\n",
       "1       0.01  1094  6965   4   980   0.135749  0.996357  0.238943\n",
       "2       0.02  1093  5762   5  2183   0.159446  0.995446  0.274865\n",
       "3       0.03  1087  4727  11  3218   0.186963  0.989982  0.314525\n",
       "4       0.04  1064  3804  34  4141   0.218570  0.969035  0.356688"
      ],
      "text/html": [
       "<div>\n",
       "<style scoped>\n",
       "    .dataframe tbody tr th:only-of-type {\n",
       "        vertical-align: middle;\n",
       "    }\n",
       "\n",
       "    .dataframe tbody tr th {\n",
       "        vertical-align: top;\n",
       "    }\n",
       "\n",
       "    .dataframe thead th {\n",
       "        text-align: right;\n",
       "    }\n",
       "</style>\n",
       "<table border=\"1\" class=\"dataframe\">\n",
       "  <thead>\n",
       "    <tr style=\"text-align: right;\">\n",
       "      <th></th>\n",
       "      <th>threshold</th>\n",
       "      <th>tp</th>\n",
       "      <th>fp</th>\n",
       "      <th>fn</th>\n",
       "      <th>tn</th>\n",
       "      <th>precision</th>\n",
       "      <th>recall</th>\n",
       "      <th>F1</th>\n",
       "    </tr>\n",
       "  </thead>\n",
       "  <tbody>\n",
       "    <tr>\n",
       "      <th>0</th>\n",
       "      <td>0.00</td>\n",
       "      <td>1098</td>\n",
       "      <td>7945</td>\n",
       "      <td>0</td>\n",
       "      <td>0</td>\n",
       "      <td>0.121420</td>\n",
       "      <td>1.000000</td>\n",
       "      <td>0.216547</td>\n",
       "    </tr>\n",
       "    <tr>\n",
       "      <th>1</th>\n",
       "      <td>0.01</td>\n",
       "      <td>1094</td>\n",
       "      <td>6965</td>\n",
       "      <td>4</td>\n",
       "      <td>980</td>\n",
       "      <td>0.135749</td>\n",
       "      <td>0.996357</td>\n",
       "      <td>0.238943</td>\n",
       "    </tr>\n",
       "    <tr>\n",
       "      <th>2</th>\n",
       "      <td>0.02</td>\n",
       "      <td>1093</td>\n",
       "      <td>5762</td>\n",
       "      <td>5</td>\n",
       "      <td>2183</td>\n",
       "      <td>0.159446</td>\n",
       "      <td>0.995446</td>\n",
       "      <td>0.274865</td>\n",
       "    </tr>\n",
       "    <tr>\n",
       "      <th>3</th>\n",
       "      <td>0.03</td>\n",
       "      <td>1087</td>\n",
       "      <td>4727</td>\n",
       "      <td>11</td>\n",
       "      <td>3218</td>\n",
       "      <td>0.186963</td>\n",
       "      <td>0.989982</td>\n",
       "      <td>0.314525</td>\n",
       "    </tr>\n",
       "    <tr>\n",
       "      <th>4</th>\n",
       "      <td>0.04</td>\n",
       "      <td>1064</td>\n",
       "      <td>3804</td>\n",
       "      <td>34</td>\n",
       "      <td>4141</td>\n",
       "      <td>0.218570</td>\n",
       "      <td>0.969035</td>\n",
       "      <td>0.356688</td>\n",
       "    </tr>\n",
       "  </tbody>\n",
       "</table>\n",
       "</div>"
      ]
     },
     "execution_count": 95,
     "metadata": {},
     "output_type": "execute_result"
    }
   ],
   "execution_count": 95
  },
  {
   "metadata": {
    "ExecuteTime": {
     "end_time": "2024-10-23T21:42:28.707045Z",
     "start_time": "2024-10-23T21:42:28.677405Z"
    }
   },
   "cell_type": "code",
   "source": "df_scores.sort_values(by='F1', ascending=False).iloc[0][\"threshold\"]",
   "id": "16c8b78df94fc695",
   "outputs": [
    {
     "data": {
      "text/plain": [
       "0.22"
      ]
     },
     "execution_count": 96,
     "metadata": {},
     "output_type": "execute_result"
    }
   ],
   "execution_count": 96
  },
  {
   "metadata": {},
   "cell_type": "markdown",
   "source": [
    "### Question 5: 5-Fold CV\n",
    "\n",
    "\n",
    "Use the `KFold` class from Scikit-Learn to evaluate our model on 5 different folds:\n",
    "\n",
    "```\n",
    "KFold(n_splits=5, shuffle=True, random_state=1)\n",
    "```\n",
    "\n",
    "* Iterate over different folds of `df_full_train`\n",
    "* Split the data into train and validation\n",
    "* Train the model on train with these parameters: `LogisticRegression(solver='liblinear', C=1.0, max_iter=1000)`\n",
    "* Use AUC to evaluate the model on validation\n",
    "\n",
    "How large is standard deviation of the scores across different folds?\n",
    "\n",
    "- 0.0001\n",
    "- 0.006\n",
    "- 0.06\n",
    "- 0.26"
   ],
   "id": "a392d3dc4d6dc7a9"
  },
  {
   "metadata": {
    "ExecuteTime": {
     "end_time": "2024-10-23T21:51:48.746044Z",
     "start_time": "2024-10-23T21:51:48.730456Z"
    }
   },
   "cell_type": "code",
   "source": "from sklearn.model_selection import KFold",
   "id": "aa4e32d80292d3b5",
   "outputs": [],
   "execution_count": 97
  },
  {
   "metadata": {
    "ExecuteTime": {
     "end_time": "2024-10-23T22:09:49.442689Z",
     "start_time": "2024-10-23T22:09:49.430093Z"
    }
   },
   "cell_type": "code",
   "source": [
    "def train_reg(df_train,y_train, c = 1.0):\n",
    "    dicts = df_train.to_dict(orient='records')\n",
    "    dv = DictVectorizer(sparse=False)\n",
    "    X_train = dv.fit_transform(dicts)\n",
    "    \n",
    "    model = LogisticRegression(solver='liblinear',C = c, max_iter=1000)\n",
    "    model.fit(X_train, y_train)\n",
    "    return dv, model\n",
    "\n",
    "def predict(df,dv,model):\n",
    "    dicts = df.to_dict(orient='records')\n",
    "    X = dv.transform(dicts)\n",
    "    y_pred = model.predict_proba(X)[:,1]\n",
    "    return y_pred"
   ],
   "id": "f790082ed799c02f",
   "outputs": [],
   "execution_count": 104
  },
  {
   "metadata": {
    "ExecuteTime": {
     "end_time": "2024-10-23T22:12:00.856472Z",
     "start_time": "2024-10-23T22:11:52.740826Z"
    }
   },
   "cell_type": "code",
   "source": [
    "n_splits = 5\n",
    "scores = []\n",
    "kfold = KFold(n_splits=n_splits, random_state=1, shuffle=True)\n",
    "for train_idx, val_idx in kfold.split(df_full_train):\n",
    "    df_train_split = df_full_train.iloc[train_idx]\n",
    "    df_val_split = df_full_train.iloc[val_idx]\n",
    "    \n",
    "    y_train_split = y_full_train[train_idx]\n",
    "    y_val_split = y_full_train[val_idx]\n",
    "    \n",
    "    dv, model = train_reg(df_train_split,y_train_split, 1)\n",
    "    y_pred_split = predict(df_val_split, dv, model)\n",
    "    \n",
    "    auc = roc_auc_score(y_val_split, y_pred_split)\n",
    "    scores.append(auc)\n",
    "print('%.3f  %.3f' % (np.mean(scores), np.std(scores)))"
   ],
   "id": "8367d954932d301e",
   "outputs": [
    {
     "name": "stdout",
     "output_type": "stream",
     "text": [
      "0.906  0.006\n"
     ]
    }
   ],
   "execution_count": 105
  },
  {
   "metadata": {},
   "cell_type": "markdown",
   "source": [
    "### Question 6: Hyperparameter Tuning\n",
    "\n",
    "Now let's use 5-Fold cross-validation to find the best parameter `C`\n",
    "\n",
    "* Iterate over the following `C` values: `[0.000001, 0.001, 1]`\n",
    "* Initialize `KFold` with the same parameters as previously\n",
    "* Use these parameters for the model: `LogisticRegression(solver='liblinear', C=C, max_iter=1000)`\n",
    "* Compute the mean score as well as the std (round the mean and std to 3 decimal digits)\n",
    "\n",
    "Which `C` leads to the best mean score?\n",
    "\n",
    "- 0.000001\n",
    "- 0.001\n",
    "- 1\n",
    "\n",
    "If you have ties, select the score with the lowest std. If you still have ties, select the smallest `C`."
   ],
   "id": "bdaf851b7edd73e2"
  },
  {
   "metadata": {
    "ExecuteTime": {
     "end_time": "2024-10-23T22:13:46.508515Z",
     "start_time": "2024-10-23T22:13:46.342155Z"
    }
   },
   "cell_type": "code",
   "source": "from tqdm.auto import tqdm",
   "id": "384c035ca4b7ae44",
   "outputs": [],
   "execution_count": 106
  },
  {
   "metadata": {
    "ExecuteTime": {
     "end_time": "2024-10-23T22:16:24.790739Z",
     "start_time": "2024-10-23T22:16:05.645546Z"
    }
   },
   "cell_type": "code",
   "source": [
    "n_splits = 5\n",
    "for c in tqdm([0.000001, 0.001, 1]):\n",
    "    scores = []\n",
    "    kfold = KFold(n_splits=n_splits, random_state=1, shuffle=True)\n",
    "    for train_idx, val_idx in kfold.split(df_full_train):\n",
    "        df_train_split = df_full_train.iloc[train_idx]\n",
    "        df_val_split = df_full_train.iloc[val_idx]\n",
    "        \n",
    "        y_train_split = y_full_train[train_idx]\n",
    "        y_val_split = y_full_train[val_idx]\n",
    "        \n",
    "        dv, model = train_reg(df_train_split,y_train_split, c)\n",
    "        y_pred_split = predict(df_val_split, dv, model)\n",
    "        \n",
    "        auc = roc_auc_score(y_val_split, y_pred_split)\n",
    "        scores.append(auc)\n",
    "    print('%s %.3f  %.3f' % (c, np.mean(scores), np.std(scores)))"
   ],
   "id": "4c80f9a8793c0f9b",
   "outputs": [
    {
     "data": {
      "text/plain": [
       "  0%|          | 0/3 [00:00<?, ?it/s]"
      ],
      "application/vnd.jupyter.widget-view+json": {
       "version_major": 2,
       "version_minor": 0,
       "model_id": "c2b31ce11c4d4a85bdfe8b86b8de1c1a"
      }
     },
     "metadata": {},
     "output_type": "display_data"
    },
    {
     "name": "stdout",
     "output_type": "stream",
     "text": [
      "1e-06 0.701  0.009\n",
      "0.001 0.861  0.007\n",
      "1 0.906  0.006\n"
     ]
    }
   ],
   "execution_count": 107
  },
  {
   "metadata": {},
   "cell_type": "code",
   "outputs": [],
   "execution_count": null,
   "source": "",
   "id": "eb697b8781610f41"
  }
 ],
 "metadata": {
  "kernelspec": {
   "display_name": "Python 3",
   "language": "python",
   "name": "python3"
  },
  "language_info": {
   "codemirror_mode": {
    "name": "ipython",
    "version": 2
   },
   "file_extension": ".py",
   "mimetype": "text/x-python",
   "name": "python",
   "nbconvert_exporter": "python",
   "pygments_lexer": "ipython2",
   "version": "2.7.6"
  }
 },
 "nbformat": 4,
 "nbformat_minor": 5
}
